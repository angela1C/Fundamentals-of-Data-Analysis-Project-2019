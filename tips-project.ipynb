{
 "cells": [
  {
   "cell_type": "markdown",
   "metadata": {},
   "source": [
    "# Fundamentals of Data Analysis Project"
   ]
  },
  {
   "cell_type": "markdown",
   "metadata": {},
   "source": [
    "<img src = \"https://pandas.pydata.org/_static/pandas_logo.png\" alt =\"pandas_logo\" height= \"100\" align=\"right\"/>\n",
    "<img src = \"https://seaborn.pydata.org/_static/scatterplot_matrix_thumb.png?v=0.9.0\" alt = \"seaborn\" width =\"150\" align=\"left\"/>\n",
    "<img src =\"https://upload.wikimedia.org/wikipedia/commons/3/38/Jupyter_logo.svg\" alt =\"Jupyter logo\" width=\"150\" align=\"center\"/>"
   ]
  },
  {
   "cell_type": "markdown",
   "metadata": {},
   "source": [
    "<img src =\"https://upload.wikimedia.org/wikipedia/commons/3/38/Jupyter_logo.svg\" alt =\"Jupyter logo\" width=\"150\" align=\"center\"/>"
   ]
  },
  {
   "cell_type": "markdown",
   "metadata": {},
   "source": [
    "<a id=\"overview\"></a>\n",
    "# Project Overview\n",
    "\n",
    "This project concerns the well-known tips dataset and the Python packages **seaborn** and **jupyter**. \n",
    "The project is broken into three parts, as follows.\n",
    "\n",
    "1. Description: Descriptive Statistics and plots to describe the tips dataset.\n",
    "This sections provides a summary of the tips dataset using summary statistics and plots.\n",
    "\n",
    "2. Regression: Is there a relationship between the total bill and tip amount?\n",
    "This sections discusses and analyses the relationship, if any between the total bill amount and tip together with an explantion of the analysis.\n",
    "\n",
    "3. Analyse: Look at relationship between the variables within the dataset.\n",
    "Where section 2 looks at the relationship between total bill amount and the tip amount, this section investigate what relationships exist between all of the variables with interesting relationships highlighted and discussed. \n",
    "***"
   ]
  },
  {
   "cell_type": "markdown",
   "metadata": {},
   "source": [
    "<a id=\"toc\"></a>\n",
    "\n",
    "# Table of contents\n",
    "- [Project Overview](#overview)   \n",
    "- [About this notebook](#notebook)\n",
    "    - [Project plan](#plan)\n",
    "    - [Jupyter Notebook](#notebook)\n",
    "    - [Python Libraries](#libraries)\n",
    "    - [Downloading and running the code](#running)\n",
    "- [Part 1: Describe the tips dataset using descriptive Statistics and plots](#part1)\n",
    "    - [The tips dataset](#tipsdataset)  \n",
    "    - [Loading / Reading in the dataset](#loading)    \n",
    "    - [Exploring the dataset](#exploring)  \n",
    "    - [Summary Statistics](#statistics)  \n",
    "    - [Visualising the dataset using plots](#visualise)\n",
    "- [Part 2 Regression: Discuss and analyse whether there is a relationship between the total bill and tip amount.](#part2)\n",
    "- [Part 3 Analyse: Analyse the relationships between the variables within the dataset](#part3)\n",
    "- [References](#references)  \n",
    "\n",
    "***"
   ]
  },
  {
   "cell_type": "markdown",
   "metadata": {},
   "source": [
    "## project plan - remove later!\n",
    "<a id=\"plan\"></a>\n",
    "\n",
    "#### Project Instructions\n",
    "As per the attached [Project Instructions]('Instructions.pdf'), this assessment concerns the tips dataset and the Python packages seaborn and jupyter. The project is broken into three parts, as follows.\n",
    "\n",
    "(30%) **Description**: Create a git repository and make it available online for the lecturer to clone. The repository should contain all your work for this assessment. Within the repository, create a jupyter notebook that uses descriptive statistics and plots to describe the tips dataset. \n",
    "*marked based on Good summary of the dataset, repository well laid-out and organised. Reasonable commits to the repository.*\n",
    "\n",
    "(30%) **Regression**: To the above jupyter notebook add a section that discusses and analyses whether there is a relationship between the total bill and tip amount.\n",
    "*marked based on Good analysis of the relationship between total bill and tip, with good explanations of the analysis.*\n",
    "(40%) **Analyse**: Again using the same notebook, analyse the relationship between the variables within the dataset. You are free to interpret this as you wish — for example, you may analyse all pairs of variables, or select a subset and analyse those. \n",
    "*marked based on Reasonable work investigating the relationship between the variables, with interesting relationships highlighted and discussed.*\n",
    "\n",
    "#### 1. Description.\n",
    "- Descriptive Statistics using pandas functions such as `describe`\n",
    "- seaborn plots to show boxplots which visualise the main statistics from the `describe` function such as mean, median, lower and upper quartiles and interquartile ranges. \n",
    "- look at other seaborn plots that summarise the dataset\n",
    "\n",
    "#### 2. Regression\n",
    "- look at plots first to see what the trends are between total bill amount and tip amount.\n",
    "- **discuss** and **analyse** whether there is a relationship.\n",
    "- provide a **good analysis** of the this relationship backed up by good explanations of this analysis.\n",
    "\n",
    "#### 3. Analyse the relationships between the variables within the dataset\n",
    "- should see from previous steps any obvious relationships and explore these in more detail.\n",
    "- highlight interesting relationships between variables and discuss these in more detail. \n",
    "\n",
    "#### 4. References\n",
    "- Keep reference list up to date as I go through the project. Look into better ways to referencing rather than adding throughout the document using reference style links as per [Markdown Guide](https://www.markdownguide.org/basic-syntax/#reference-style-links) which is not this way!\n",
    "\n",
    "#### 5. Set up the relevant sections or parts before going any further!\n",
    "\n",
    "#### 6. Refer to project instructions pdf to ensure I am keeping on track and not going off on a tangent.\n"
   ]
  },
  {
   "cell_type": "markdown",
   "metadata": {},
   "source": [
    "***\n",
    "# About this notebook and python libraries used in it.\n",
    "<a id=\"notebook\"></a>\n",
    "\n",
    "For this project I will be using the **pandas**,  **seaborn** and **matplotlib.pyplot** packages which are imported using the conventionally used aliases of **pd** for **pandas**, **sn** for **seaborn** and the **matplotlib.pyplot** as **plt**. I may also be using NumPy. \n",
    "\n",
    "[Seaborn](https://seaborn.pydata.org) is a Python data visualization library for making attractive and informative statistical graphics in Python.  There is a website <https://seaborn.pydata.or> dedicated to showing the user how to use the seaborn library and I will be referring to this throughout this project. \n",
    " \n",
    "According to the [introduction to seaborn](https://seaborn.pydata.org/introduction.html#an-introduction-to-seaborn) on this website, seaborn is built on top of matplotlib and closely integrated with pandas data structures and among its features offers a 'dataset-oriented API for examining relationships between multiple variables, specialized support for using categorical variables to show observations or aggregate statistics... automatic estimation and plotting of linear regression models for different kinds dependent variables. Seaborn aims to make visualization a central part of exploring and understanding data. Its dataset-oriented plotting functions operate on dataframes and arrays containing whole datasets and internally perform the necessary semantic mapping and statistical aggregation to produce informative plots.'.\n",
    "All very relevent to this project!\n",
    "\n",
    "\n",
    "[pandas](https://pandas.pydata.org/pandas-docs/stable/getting_started/overview.html)\n",
    "\n",
    ">pandas is a Python package providing fast, flexible, and expressive data structures designed to make working with “relational” or “labeled” data both easy and intuitive. It aims to be the fundamental high-level building block for doing practical, real world data analysis in Python. Additionally, it has the broader goal of becoming the most powerful and flexible open source data analysis / manipulation tool available in any language. It is already well on its way toward this goal.\n",
    "\n",
    "  \n",
    "[jupyter]()\n"
   ]
  },
  {
   "cell_type": "markdown",
   "metadata": {},
   "source": [
    "### Importing Python Libraries"
   ]
  },
  {
   "cell_type": "code",
   "execution_count": 1,
   "metadata": {},
   "outputs": [
    {
     "name": "stdout",
     "output_type": "stream",
     "text": [
      "NumPy version 1.16.2 pandas version  0.24.2 seaborn version 0.9.0\n"
     ]
    }
   ],
   "source": [
    "## import libraries\n",
    "\n",
    "# import libraries using common alias names\n",
    "import numpy as np\n",
    "import pandas as pd\n",
    "import seaborn as sns\n",
    "import matplotlib.pyplot as plt\n",
    "\n",
    "#np.version.version  # check what version of packages are installed.\n",
    "print(\"NumPy version\",np.__version__, \"pandas version \",pd.__version__, \"seaborn version\",sns.__version__  )  # '1.16.2'\n",
    "\n",
    "#np.set_printoptions(formatter={'float': lambda x: \"{0:6.3f}\".format(x)})\n",
    "np.set_printoptions(precision=4)  # set floating point precision to 4\n",
    "np.set_printoptions(threshold=5) # summarise long arrays\n",
    "np.set_printoptions(suppress=True) # to suppress small results\n",
    "\n",
    "pd.options.display.max_rows=8 # set options to display max number of rows\n",
    "\n",
    "# To display all the output in each cell instead of just the statement, run these two lines\n",
    "#from IPython.core.interactiveshell import InteractiveShell\n",
    "#InteractiveShell.ast_node_interactivity = \"all\"  #"
   ]
  },
  {
   "cell_type": "code",
   "execution_count": 2,
   "metadata": {},
   "outputs": [
    {
     "name": "stdout",
     "output_type": "stream",
     "text": [
      "0.24.2\n",
      "0.9.0\n"
     ]
    }
   ],
   "source": [
    "# check what version of numpy and other packages I have installed.\n",
    "print(pd.__version__)\n",
    "print(sns.__version__)"
   ]
  },
  {
   "cell_type": "code",
   "execution_count": 3,
   "metadata": {},
   "outputs": [
    {
     "name": "stdout",
     "output_type": "stream",
     "text": [
      "Instructions.pdf   README.md          notes.ipynb        tips-project.ipynb\n",
      "LICENSE            matplotliblogo.png seaborn.png\n",
      "matplotliblogo.png seaborn.png\n",
      "ls: *.csv: No such file or directory\n"
     ]
    }
   ],
   "source": [
    "# checking what files I have in this folder\n",
    "!ls  # see what files are in this folder\n",
    "!ls *.png # checking for png files\n",
    "!ls *.csv # checking for csv files."
   ]
  },
  {
   "cell_type": "markdown",
   "metadata": {},
   "source": [
    "***\n",
    "# Part 1: Describe the tips dataset using descriptive Statistics and plots\n",
    "\n",
    "\n",
    "The goal for part 1 is to provide a good summary of the tips dataset using statistics and plots.\n",
    "I will start by reading in the Tips dataset from the csv file and looking at the resulting pandas DataFrame object. First a little overview of the Tips dataset and where it came from. I may refer to the dataset as 'Tips' or 'tips' throughout this document. "
   ]
  },
  {
   "cell_type": "markdown",
   "metadata": {},
   "source": [
    "\n",
    "<a id=\"tipsdataset\"></a>\n",
    "## The Tips dataset\n",
    "\n",
    "The tips dataset is available in the [seaborn-data repository](https://github.com/mwaskom/seaborn-data) belonging to Michael Waskom - the creator of the [seaborn](https://seaborn.pydata.org/index.html) python data visualisation package. \n",
    "According to it's README document this repository exists only as a convenient target for the `seaborn.load_dataset` functions to download sample datasets from. The **tips** dataset is also built into the **seaborn** package and can be easily loaded using the seaborn `load_dataset` command. (`seaborn.load_dataset(\"tips\")`)\n",
    "It is one of several example datasets that are used in the documentation of the `seaborn` package to demonstrate the features and uses of the `seaborn` package.\n",
    "\n",
    "The tips dataset is available in csv format at the following URL: <https://github.com/mwaskom/seaborn-data/blob/master/tips.csv>.\n",
    "\n",
    "According to the [introduction to seaborn](https://seaborn.pydata.org/introduction.html#an-introduction-to-seaborn) many of it's examples use the *boring* Tips dataset!:\n",
    "> which is very boring but quite useful for demonstration. The tips dataset illustrates the “tidy” approach to organizing a dataset.\n",
    "\n",
    "[Tidy data](https://en.wikipedia.org/wiki/Tidy_data) is an alternate name for the common statistical form called a model matrix or data matrix which is a\n",
    "\n",
    ">A standard method of displaying a multivariate set of data is in the form of a data matrix in which rows correspond to sample individuals and columns to variables, so that the entry in the ith row and jth column gives the value of the jth variate as measured or observed on the ith individual.\n",
    "\n",
    "Hadley Wickham of RStudio [2] defined 'Tidy Data' as:\n",
    "\n",
    "> a standard way of mapping the meaning of a dataset to its structure. A dataset is messy or tidy depending on how rows, columns and tables are matched up with observations, variables and types. In tidy data:\n",
    "1. Each variable forms a column.\n",
    "2. Each observation forms a row.\n",
    "3. Each type of observational unit forms a table.\n",
    "\n",
    " \n",
    "The [tips csv file](http://vincentarelbundock.github.io/Rdatasets/csv/reshape2/tips.csv) is also available at the [Rdatasets website](https://vincentarelbundock.github.io/Rdatasets/) which is a large collection of datasets originally distributed alongside the statistical software environment R and some of its add-on packages for teaching and statistical software development purposes maintained by [Vincent Arel-Bundock](http://arelbundock.com).\n",
    "\n",
    "According to the [tips dataset documentation](http://vincentarelbundock.github.io/Rdatasets/doc/reshape2/tips.html), the **Tips** dataset is a data frame with 244 rows and 7 variables which represents some tipping data where one waiter recorded information about each tip he received over a period of a few months working in one restaurant. \n",
    "In all the waiter recorded 244 tips. The data was reported in a collection of case studies for business statistics (Bryant & Smith 1995).[1]\n",
    "\n",
    "The waiter collected several variables:\n",
    "\n",
    "### Variables\n",
    "\n",
    "- tip in dollars  \n",
    "- bill in dollars    \n",
    "- sex of the bill payer  \n",
    "- whether there were smokers in the party  \n",
    "- day of the week  \n",
    "- time of day  \n",
    "- size of the party  \n",
    "\n",
    "The Tips dataset follows the tidy dataset format which I will show below.\n",
    "\n",
    "While some relationships and trends might be shown below I think it is important to note that this is a very small dataset containing data for a single waiter in a single restaurant over a few months so I don't think it can be used to draw conclusions about tipping practices in general! \n"
   ]
  },
  {
   "cell_type": "markdown",
   "metadata": {},
   "source": [
    "\n",
    "***\n",
    " "
   ]
  },
  {
   "cell_type": "markdown",
   "metadata": {},
   "source": [
    "## Loading / Reading in the data file into Python\n",
    "<a id=\"loading\"></a>\n",
    "\n",
    "\n",
    "#### About the Tips dataset.\n",
    "The tips dataset is available as described above in csv format at the two urls : \n",
    "- Vincent Arel-Bundock's [Rdatasets website](https://vincentarelbundock.github.io/Rdatasets/) at <http://vincentarelbundock.github.io/Rdatasets/csv/reshape2/tips.csv> \n",
    "- The [seaborn-data repository](https://github.com/mwaskom/seaborn-data) at <https://github.com/mwaskom/seaborn-data/blob/master/tips.csv>. Here the csv data is actually displayed nicely to the screen in tabular format - to get a link for the raw csv file click the `raw` icon which dumps the raw csv file to the browser from where you can copy the url <https://raw.githubusercontent.com/mwaskom/seaborn-data/master/tips.csv>.   \n",
    "  \n",
    "A CSV file is a file where the values are seperated by a comma `,` (comma separated values).\n",
    "\n",
    "The Python `pandas` library has several functions for reading tabular data into a DataFrame object. \n",
    "Data that is in csv format can be read into a pandas **DataFrame** object either from a csv file or from a URL using the [`read_csv`](https://pandas.pydata.org/pandas-docs/stable/user_guide/io.html#io-read-csv-table) function. A pandas DataFrame is a 2 dimensional data structure with rows and columns that resembles a spreadsheet.\n",
    "\n",
    "The `pandas.read_csv()` function performs type inferrence to infer the type of data types in each column. A DataFrame can have mixed data types such as numeric, integer, string, boolean etc but each column will have only one data type."
   ]
  },
  {
   "cell_type": "markdown",
   "metadata": {},
   "source": [
    "The Tips dataset is a small dataset so the entire csv file can be read into python in one go without causing any problems.\n",
    "For larger datasets you could specify how many lines to read in using the `nrows` argument. This dataset is very easy to read in to pandas. I am using the csv data from the [seaborn-data repository](https://github.com/mwaskom/seaborn-data) mentioned earlier. \n",
    "\n",
    "The csv file at the [Rdatasets website](https://vincentarelbundock.github.io/Rdatasets/) has an extra column added to it which looks like an index starting from 1 and this could be treated as the row index by setting the `index_col` argument to be the first column of the csv file `index_col =0` or alternatively this column could be dropped by setting the `usecols` to return a subset of  the columns, for example: `usecols=[1,2,3,4,5,6,7])`.\n",
    "\n",
    "The [parsing options](https://pandas.pydata.org/pandas-docs/stable/user_guide/io.html#parsing-options) on <https://pandas.pydata.org> shows all the common arguments used when reading in csv files using the pandas `read_csv` function.\n"
   ]
  },
  {
   "cell_type": "code",
   "execution_count": 2,
   "metadata": {},
   "outputs": [],
   "source": [
    "import pandas as pd  # import pandas library\n",
    "\n",
    "csv_url = 'https://raw.githubusercontent.com/mwaskom/seaborn-data/master/tips.csv'\n",
    "\n",
    "# using the attribute information as the column names\n",
    "col_names = ['Sepal_Length','Sepal_Width','Petal_Length','Petal_Width','Class']\n",
    "\n",
    "df =  pd.read_csv(csv_url)  ## creata a DataFrame named df from reading in the csv file from a URL"
   ]
  },
  {
   "cell_type": "markdown",
   "metadata": {},
   "source": [
    "#### Check the DataFrame looks ok\n",
    "\n",
    "Having successfully read in the csv file into a pandas DataFrame object, we can now use the panda's `head` and `tail` functions to ensure the file has been read in and looks ok before exploring the DataFrame further below.\n",
    "As it is a very small file it can be quickly checked against the csv file source and all looks fine so far.\n",
    "The `tail` function is useful for making sure a dataset has been read in properly as usually any problems reading in csv files usually manifest towards the end of the dataframe, throwing out the last number of rows. Here I can see the same types of values in each column, the last index is 243 for the 244th row. There are indeed 244 observations in the csv file. \n",
    "\n"
   ]
  },
  {
   "cell_type": "code",
   "execution_count": 3,
   "metadata": {},
   "outputs": [
    {
     "data": {
      "text/html": [
       "<div>\n",
       "<style scoped>\n",
       "    .dataframe tbody tr th:only-of-type {\n",
       "        vertical-align: middle;\n",
       "    }\n",
       "\n",
       "    .dataframe tbody tr th {\n",
       "        vertical-align: top;\n",
       "    }\n",
       "\n",
       "    .dataframe thead th {\n",
       "        text-align: right;\n",
       "    }\n",
       "</style>\n",
       "<table border=\"1\" class=\"dataframe\">\n",
       "  <thead>\n",
       "    <tr style=\"text-align: right;\">\n",
       "      <th></th>\n",
       "      <th>total_bill</th>\n",
       "      <th>tip</th>\n",
       "      <th>sex</th>\n",
       "      <th>smoker</th>\n",
       "      <th>day</th>\n",
       "      <th>time</th>\n",
       "      <th>size</th>\n",
       "    </tr>\n",
       "  </thead>\n",
       "  <tbody>\n",
       "    <tr>\n",
       "      <th>0</th>\n",
       "      <td>16.99</td>\n",
       "      <td>1.01</td>\n",
       "      <td>Female</td>\n",
       "      <td>No</td>\n",
       "      <td>Sun</td>\n",
       "      <td>Dinner</td>\n",
       "      <td>2</td>\n",
       "    </tr>\n",
       "    <tr>\n",
       "      <th>1</th>\n",
       "      <td>10.34</td>\n",
       "      <td>1.66</td>\n",
       "      <td>Male</td>\n",
       "      <td>No</td>\n",
       "      <td>Sun</td>\n",
       "      <td>Dinner</td>\n",
       "      <td>3</td>\n",
       "    </tr>\n",
       "    <tr>\n",
       "      <th>2</th>\n",
       "      <td>21.01</td>\n",
       "      <td>3.50</td>\n",
       "      <td>Male</td>\n",
       "      <td>No</td>\n",
       "      <td>Sun</td>\n",
       "      <td>Dinner</td>\n",
       "      <td>3</td>\n",
       "    </tr>\n",
       "    <tr>\n",
       "      <th>3</th>\n",
       "      <td>23.68</td>\n",
       "      <td>3.31</td>\n",
       "      <td>Male</td>\n",
       "      <td>No</td>\n",
       "      <td>Sun</td>\n",
       "      <td>Dinner</td>\n",
       "      <td>2</td>\n",
       "    </tr>\n",
       "    <tr>\n",
       "      <th>4</th>\n",
       "      <td>24.59</td>\n",
       "      <td>3.61</td>\n",
       "      <td>Female</td>\n",
       "      <td>No</td>\n",
       "      <td>Sun</td>\n",
       "      <td>Dinner</td>\n",
       "      <td>4</td>\n",
       "    </tr>\n",
       "  </tbody>\n",
       "</table>\n",
       "</div>"
      ],
      "text/plain": [
       "   total_bill   tip     sex smoker  day    time  size\n",
       "0       16.99  1.01  Female     No  Sun  Dinner     2\n",
       "1       10.34  1.66    Male     No  Sun  Dinner     3\n",
       "2       21.01  3.50    Male     No  Sun  Dinner     3\n",
       "3       23.68  3.31    Male     No  Sun  Dinner     2\n",
       "4       24.59  3.61  Female     No  Sun  Dinner     4"
      ]
     },
     "execution_count": 3,
     "metadata": {},
     "output_type": "execute_result"
    }
   ],
   "source": [
    "df.head()  # look at the top 5 rows of the DataFrame df"
   ]
  },
  {
   "cell_type": "code",
   "execution_count": 6,
   "metadata": {},
   "outputs": [
    {
     "data": {
      "text/html": [
       "<div>\n",
       "<style scoped>\n",
       "    .dataframe tbody tr th:only-of-type {\n",
       "        vertical-align: middle;\n",
       "    }\n",
       "\n",
       "    .dataframe tbody tr th {\n",
       "        vertical-align: top;\n",
       "    }\n",
       "\n",
       "    .dataframe thead th {\n",
       "        text-align: right;\n",
       "    }\n",
       "</style>\n",
       "<table border=\"1\" class=\"dataframe\">\n",
       "  <thead>\n",
       "    <tr style=\"text-align: right;\">\n",
       "      <th></th>\n",
       "      <th>total_bill</th>\n",
       "      <th>tip</th>\n",
       "      <th>sex</th>\n",
       "      <th>smoker</th>\n",
       "      <th>day</th>\n",
       "      <th>time</th>\n",
       "      <th>size</th>\n",
       "    </tr>\n",
       "  </thead>\n",
       "  <tbody>\n",
       "    <tr>\n",
       "      <th>239</th>\n",
       "      <td>29.03</td>\n",
       "      <td>5.92</td>\n",
       "      <td>Male</td>\n",
       "      <td>No</td>\n",
       "      <td>Sat</td>\n",
       "      <td>Dinner</td>\n",
       "      <td>3</td>\n",
       "    </tr>\n",
       "    <tr>\n",
       "      <th>240</th>\n",
       "      <td>27.18</td>\n",
       "      <td>2.00</td>\n",
       "      <td>Female</td>\n",
       "      <td>Yes</td>\n",
       "      <td>Sat</td>\n",
       "      <td>Dinner</td>\n",
       "      <td>2</td>\n",
       "    </tr>\n",
       "    <tr>\n",
       "      <th>241</th>\n",
       "      <td>22.67</td>\n",
       "      <td>2.00</td>\n",
       "      <td>Male</td>\n",
       "      <td>Yes</td>\n",
       "      <td>Sat</td>\n",
       "      <td>Dinner</td>\n",
       "      <td>2</td>\n",
       "    </tr>\n",
       "    <tr>\n",
       "      <th>242</th>\n",
       "      <td>17.82</td>\n",
       "      <td>1.75</td>\n",
       "      <td>Male</td>\n",
       "      <td>No</td>\n",
       "      <td>Sat</td>\n",
       "      <td>Dinner</td>\n",
       "      <td>2</td>\n",
       "    </tr>\n",
       "    <tr>\n",
       "      <th>243</th>\n",
       "      <td>18.78</td>\n",
       "      <td>3.00</td>\n",
       "      <td>Female</td>\n",
       "      <td>No</td>\n",
       "      <td>Thur</td>\n",
       "      <td>Dinner</td>\n",
       "      <td>2</td>\n",
       "    </tr>\n",
       "  </tbody>\n",
       "</table>\n",
       "</div>"
      ],
      "text/plain": [
       "     total_bill   tip     sex smoker   day    time  size\n",
       "239       29.03  5.92    Male     No   Sat  Dinner     3\n",
       "240       27.18  2.00  Female    Yes   Sat  Dinner     2\n",
       "241       22.67  2.00    Male    Yes   Sat  Dinner     2\n",
       "242       17.82  1.75    Male     No   Sat  Dinner     2\n",
       "243       18.78  3.00  Female     No  Thur  Dinner     2"
      ]
     },
     "execution_count": 6,
     "metadata": {},
     "output_type": "execute_result"
    }
   ],
   "source": [
    "df.tail() # Look at the bottom 5 rows of the DataFrame"
   ]
  },
  {
   "cell_type": "markdown",
   "metadata": {},
   "source": [
    "***\n",
    "<a id=\"exploring\"></a>\n",
    "## Viewing the tips data\n",
    "\n",
    "Having read in the dataset using the pandas `read_csv()` function I will look at the dataset using pandas and seaborn packages which work hand in hand for analysing datasets. The pandas library has many useful functions for looking at the dataframe object created from reading in the csv file. The dataset can be sliced and diced to look at subsets of the dataset, to look at certain variables in the different columns or to select different categories of the variables or other combinations of rows and columns. Summary statistics can be easily generated with pandas. While the pandas package can be used to plot the data, this is where the seaborn package shines.\n",
    "\n",
    "The following pandas functions can be used to get a good overview of the dataset read into the DataFrame object called `df`.\n",
    "- `df.head()` - return the first 5 rows of the dataframe object\n",
    "- `df.tail()` - return the the last 5 rows of the dataframe object\n",
    "- `df.dtype()` - the data types attributes for each column in the dataset\n",
    "- `df.index()` - the row labels of the dataframe.\n",
    "\n",
    "- `df.isna().sum()` returns boolean values which can be summed to get the number of missing values.\n"
   ]
  },
  {
   "cell_type": "code",
   "execution_count": 7,
   "metadata": {},
   "outputs": [
    {
     "data": {
      "text/plain": [
       "<function pandas.core.frame.DataFrame.isna(self)>"
      ]
     },
     "execution_count": 7,
     "metadata": {},
     "output_type": "execute_result"
    }
   ],
   "source": [
    "pd.DataFrame.head # a dataframe method (<function pandas.core.generic.NDFrame.head(self, n=5)>)\n",
    "pd.DataFrame.dtypes# a dataframe attribute (<property at 0x11f650958>)\n",
    "pd.DataFrame.index # dataframe method. to show the index (row labels) of the datarame. (AxisProperty )\n",
    "pd.DataFrame.isna # function for checking how missing values in the dataset. "
   ]
  },
  {
   "cell_type": "markdown",
   "metadata": {},
   "source": [
    "#### Column and row names\n",
    "When the 'tips' csv dataset was read in using `pandas.read_csv()` function, the column names were assigned using the first line of data in the csv file. This is the default treatment with `pandas.read_csv()` if you have not set a header row or provided column names. You can provide different column names by setting `header=None` in the `read_csv` function and then providing the names to use using the `names` argument, for example `names= 'col-name1', 'col-name2'` etc."
   ]
  },
  {
   "cell_type": "code",
   "execution_count": 4,
   "metadata": {},
   "outputs": [
    {
     "name": "stdout",
     "output_type": "stream",
     "text": [
      "The index of the tips DataFrame:  RangeIndex(start=0, stop=244, step=1)\n"
     ]
    }
   ],
   "source": [
    "print(\"The index of the tips DataFrame: \", df.index) # the index of the DataFrame"
   ]
  },
  {
   "cell_type": "markdown",
   "metadata": {},
   "source": [
    "There are 7 columns as expected and an index that begins at 0 for the first row. If the index of a DataFrame is not set to a particular column or some other value using `index_col` argument to `read_csv` , it will default to a sequence of integers beginning at 0 which is fine for the Tips dataset. The index goes from 0 (for the first row) up to 243 for the last row or observation in the dataset. The index is a range of integers from 0 up to but not including 244. \n",
    "\n"
   ]
  },
  {
   "cell_type": "code",
   "execution_count": null,
   "metadata": {},
   "outputs": [],
   "source": []
  },
  {
   "cell_type": "markdown",
   "metadata": {},
   "source": [
    "#### [dtypes](https://pandas.pydata.org/pandas-docs/stable/getting_started/basics.html#dtypes)\n",
    "\n",
    "The data types `dtypes` have been inferred by the `read_csv` function but it is also possible to pass the data type when reading in the file. "
   ]
  },
  {
   "cell_type": "code",
   "execution_count": 5,
   "metadata": {},
   "outputs": [
    {
     "name": "stdout",
     "output_type": "stream",
     "text": [
      "The dtypes in the dataframe are:\n",
      "\n",
      "total_bill    float64\n",
      "tip           float64\n",
      "sex            object\n",
      "smoker         object\n",
      "day            object\n",
      "time           object\n",
      "size            int64\n",
      "dtype: object\n"
     ]
    }
   ],
   "source": [
    "print(\"The dtypes in the dataframe are:\", end='\\n\\n')\n",
    "print(df.dtypes)\n",
    "\n",
    "# df.dtypes.value_counts() # how many variables of each type in the dataset "
   ]
  },
  {
   "cell_type": "markdown",
   "metadata": {},
   "source": [
    "The `dtypes` show that there are three numerical columns and 4 non-numerical object columns. \n",
    "The variables `total_bill` and `tip` are floats representin monetary amounts while `size` is an integer representing the number of people in the party. The remaining columns have been read in as objects. Pandas uses the `object` dtype for storing strings, other arbitary objects or when there are mixed types in a column.\n",
    "\n",
    "`smoker` is a binary categorical variable with two values `yes` or `no`. `sex` is also binary categorical variable with two values `Male` and `Female`. The 'day' and 'time' variables in this dataset could also be seen as categorical variables here as they have a limited number of distinct possible values. The `time` column here is not an actual time but instead just a binary categorical variable with two possible values `dinner` and `lunch` while day has four possible values: `Thur`, `Fri`, `Sat` and `Sun` for Thursday, Friday, Saturday and Sunday.\n",
    "\n",
    "I don't know yet if it is necessary to convert any of these columns to categorical data types here but you can [specify column data types](https://pandas.pydata.org/pandas-docs/stable/user_guide/io.html#specifying-column-data-types) for the whole dataFrame or for individual columns. For the moment I will continue as is...\n",
    "Actually according to the pandas docs on [categorical data](https://pandas.pydata.org/pandas-docs/stable/user_guide/categorical.html#categorical-data) as a string variable consists of only a few different values, converting such a string variable to a categorical variable will save some memory.\n",
    "\n",
    "If you [specify categorical types](https://pandas.pydata.org/pandas-docs/stable/user_guide/io.html#specifying-categorical-dtype) for categorical columns they can be parsed directly when read in by specifying `dtype='category'` or `dtype=CategoricalDtype(categories, ordered)`.\n",
    "\n",
    "Specifying `dtype='category'` will result in an unordered Categorical whose categories are the unique values observed in the data.\n",
    "You can also use the `astype` on the dataframe to convert a dtype.\n",
    "\n",
    "[](https://pandas.pydata.org/pandas-docs/stable/user_guide/categorical.html#categorical-data)"
   ]
  },
  {
   "cell_type": "code",
   "execution_count": 6,
   "metadata": {},
   "outputs": [
    {
     "name": "stdout",
     "output_type": "stream",
     "text": [
      "Male      157\n",
      "Female     87\n",
      "Name: sex, dtype: int64\n",
      "\n",
      "No     151\n",
      "Yes     93\n",
      "Name: smoker, dtype: int64\n",
      "\n",
      "Sat     87\n",
      "Sun     76\n",
      "Thur    62\n",
      "Fri     19\n",
      "Name: day, dtype: int64\n",
      "\n",
      "Dinner    176\n",
      "Lunch      68\n",
      "Name: time, dtype: int64n\n"
     ]
    }
   ],
   "source": [
    "print(df['sex'].value_counts(),end='\\n\\n') # print the number of different values for the sex variable\n",
    "print(df['smoker'].value_counts(), end='\\n\\n') # print the number of different values for the smoker variable\n",
    "print(df['day'].value_counts(), end='\\n\\n') # print the number of different values for the day variable \n",
    "print(df['time'].value_counts(), end='n\\n')# print the number of different values for the time variable"
   ]
  },
  {
   "cell_type": "code",
   "execution_count": 7,
   "metadata": {},
   "outputs": [
    {
     "data": {
      "text/plain": [
       "total_bill     float64\n",
       "tip            float64\n",
       "sex           category\n",
       "smoker        category\n",
       "day           category\n",
       "time          category\n",
       "size             int64\n",
       "dtype: object"
      ]
     },
     "execution_count": 7,
     "metadata": {},
     "output_type": "execute_result"
    }
   ],
   "source": [
    "\n",
    "df['sex']=df['sex'].astype('category') # convert sex to be a categorical value\n",
    "df['smoker']=df['smoker'].astype('category') # convery smoker to be a categorical value\n",
    "df['day']=df['day'].astype('category') \n",
    "df['time']=df['time'].astype('category') \n",
    "df.dtypes\n"
   ]
  },
  {
   "cell_type": "markdown",
   "metadata": {},
   "source": [
    "#### Checking for missing or N/A values\n",
    "Next checking to see if there are any missing values or NA's in the dataset using `isna()`function and summing up the True or False boolean values to get a count of any missing values which in this case is zero as there are no missing or na values."
   ]
  },
  {
   "cell_type": "code",
   "execution_count": 12,
   "metadata": {},
   "outputs": [
    {
     "data": {
      "text/plain": [
       "total_bill    244\n",
       "tip           244\n",
       "sex           244\n",
       "smoker        244\n",
       "day           244\n",
       "time          244\n",
       "size          244\n",
       "dtype: int64"
      ]
     },
     "execution_count": 12,
     "metadata": {},
     "output_type": "execute_result"
    }
   ],
   "source": [
    "df.isna().count()"
   ]
  },
  {
   "cell_type": "markdown",
   "metadata": {},
   "source": [
    "#### Sorting by values\n",
    "While the `head` and `tail` functions show the top and bottom rows of a dataset as read in from the data source, the values may not be sorted. The `sort_values` function can be used to sort the dataframe in ascending or descending order by one or more variables to get an idea of the range of values in the dataset."
   ]
  },
  {
   "cell_type": "code",
   "execution_count": 8,
   "metadata": {},
   "outputs": [
    {
     "data": {
      "text/html": [
       "<div>\n",
       "<style scoped>\n",
       "    .dataframe tbody tr th:only-of-type {\n",
       "        vertical-align: middle;\n",
       "    }\n",
       "\n",
       "    .dataframe tbody tr th {\n",
       "        vertical-align: top;\n",
       "    }\n",
       "\n",
       "    .dataframe thead th {\n",
       "        text-align: right;\n",
       "    }\n",
       "</style>\n",
       "<table border=\"1\" class=\"dataframe\">\n",
       "  <thead>\n",
       "    <tr style=\"text-align: right;\">\n",
       "      <th></th>\n",
       "      <th>total_bill</th>\n",
       "      <th>tip</th>\n",
       "      <th>sex</th>\n",
       "      <th>smoker</th>\n",
       "      <th>day</th>\n",
       "      <th>time</th>\n",
       "      <th>size</th>\n",
       "    </tr>\n",
       "  </thead>\n",
       "  <tbody>\n",
       "    <tr>\n",
       "      <th>170</th>\n",
       "      <td>50.81</td>\n",
       "      <td>10.00</td>\n",
       "      <td>Male</td>\n",
       "      <td>Yes</td>\n",
       "      <td>Sat</td>\n",
       "      <td>Dinner</td>\n",
       "      <td>3</td>\n",
       "    </tr>\n",
       "    <tr>\n",
       "      <th>212</th>\n",
       "      <td>48.33</td>\n",
       "      <td>9.00</td>\n",
       "      <td>Male</td>\n",
       "      <td>No</td>\n",
       "      <td>Sat</td>\n",
       "      <td>Dinner</td>\n",
       "      <td>4</td>\n",
       "    </tr>\n",
       "    <tr>\n",
       "      <th>59</th>\n",
       "      <td>48.27</td>\n",
       "      <td>6.73</td>\n",
       "      <td>Male</td>\n",
       "      <td>No</td>\n",
       "      <td>Sat</td>\n",
       "      <td>Dinner</td>\n",
       "      <td>4</td>\n",
       "    </tr>\n",
       "    <tr>\n",
       "      <th>156</th>\n",
       "      <td>48.17</td>\n",
       "      <td>5.00</td>\n",
       "      <td>Male</td>\n",
       "      <td>No</td>\n",
       "      <td>Sun</td>\n",
       "      <td>Dinner</td>\n",
       "      <td>6</td>\n",
       "    </tr>\n",
       "    <tr>\n",
       "      <th>182</th>\n",
       "      <td>45.35</td>\n",
       "      <td>3.50</td>\n",
       "      <td>Male</td>\n",
       "      <td>Yes</td>\n",
       "      <td>Sun</td>\n",
       "      <td>Dinner</td>\n",
       "      <td>3</td>\n",
       "    </tr>\n",
       "  </tbody>\n",
       "</table>\n",
       "</div>"
      ],
      "text/plain": [
       "     total_bill    tip   sex smoker  day    time  size\n",
       "170       50.81  10.00  Male    Yes  Sat  Dinner     3\n",
       "212       48.33   9.00  Male     No  Sat  Dinner     4\n",
       "59        48.27   6.73  Male     No  Sat  Dinner     4\n",
       "156       48.17   5.00  Male     No  Sun  Dinner     6\n",
       "182       45.35   3.50  Male    Yes  Sun  Dinner     3"
      ]
     },
     "execution_count": 8,
     "metadata": {},
     "output_type": "execute_result"
    }
   ],
   "source": [
    "df.sort_values(by='tip').head() # sort by tip size and look at top 5 tip sizes\n",
    "df.sort_values(by='total_bill', ascending = False).head() # sort by total bill amount and then look at top 5 amounts\n",
    "\n"
   ]
  },
  {
   "cell_type": "markdown",
   "metadata": {},
   "source": [
    "### Adding new columns to the dataframe.\n",
    "\n",
    "It is also possible to add new conditional variables to the dataframe which will be based on the values is other columns.\n",
    "This would be useful for looking at the tip compared to the actual bill amount to show the relative size of the tip.\n",
    "A tip amount might appear to be small or large but it should be put into context. \n",
    "\n",
    "Here I am experimenting with adding new columns to the dataframe based on other columns using the `np.where` function as per [stack overflow 36603238](https://stackoverflow.com/questions/36603018/pandas-multiple-conditions-based-on-multiple-columns-using-np-where/36603238)\n",
    "\n",
    "The pandas user guide outlines how to use the [where method and masking](https://pandas.pydata.org/pandas-docs/stable/user_guide/indexing.html#the-where-method-and-masking) to return a subset of the data but with the same shape as the data. `where` can be given an optional other argument to replace the values where the condition is false (in the returned copy). \n",
    "For example here a new column `mean` (which is a copy) based on the existing `tip` variable can be created where the tip size in `tip` variable is less than 2 dollars. If the tip size was less than 2 dollars then this new variable `mean` will have the value 'yes' if the condition (tip being less than 2) is true and 'no' for false.\n",
    "\n",
    "```python\n",
    "df['mean'] = np.where(df['tip']<=2 , 'yes', 'no')\n",
    "```\n",
    "\n",
    "Here a new weekend variable is created that has the value 'weekend' if the day is a Thursday or a Friday and the value 'weekend' for Saturday and Sunday.\n",
    "\n",
    "```python\n",
    "df['weekend'] = np.where(((df.day == 'Sun') | (df.day == 'Sat') | (df.day == 'Fri')), 'weekend', 'weekday')\n",
    "```\n",
    "\n",
    "### adding new column using `isin`\n",
    "As used in the seaborn tutorial, a new variable \"weekend\" can be added by checking if the day is either saturday or sunday\"\n",
    "\n",
    "`df[\"weekend\"] = df[\"day\"].isin([\"Sat\", \"Sun\"])`\n"
   ]
  },
  {
   "cell_type": "markdown",
   "metadata": {},
   "source": [
    "#### Adding a new variable to show tip amount as a percentage of the total bill amount."
   ]
  },
  {
   "cell_type": "code",
   "execution_count": 9,
   "metadata": {},
   "outputs": [],
   "source": [
    "df['tip_rate']= round((df['tip']/df['total_bill'])*100) # new columns for the tip as a percentage of total bill amount, rounded to 2 decimal placecs"
   ]
  },
  {
   "cell_type": "code",
   "execution_count": 8,
   "metadata": {},
   "outputs": [
    {
     "data": {
      "text/html": [
       "<div>\n",
       "<style scoped>\n",
       "    .dataframe tbody tr th:only-of-type {\n",
       "        vertical-align: middle;\n",
       "    }\n",
       "\n",
       "    .dataframe tbody tr th {\n",
       "        vertical-align: top;\n",
       "    }\n",
       "\n",
       "    .dataframe thead th {\n",
       "        text-align: right;\n",
       "    }\n",
       "</style>\n",
       "<table border=\"1\" class=\"dataframe\">\n",
       "  <thead>\n",
       "    <tr style=\"text-align: right;\">\n",
       "      <th></th>\n",
       "      <th>total_bill</th>\n",
       "      <th>tip</th>\n",
       "      <th>sex</th>\n",
       "      <th>smoker</th>\n",
       "      <th>day</th>\n",
       "      <th>time</th>\n",
       "      <th>size</th>\n",
       "      <th>tip_rate</th>\n",
       "    </tr>\n",
       "  </thead>\n",
       "  <tbody>\n",
       "    <tr>\n",
       "      <th>0</th>\n",
       "      <td>16.99</td>\n",
       "      <td>1.01</td>\n",
       "      <td>Female</td>\n",
       "      <td>No</td>\n",
       "      <td>Sun</td>\n",
       "      <td>Dinner</td>\n",
       "      <td>2</td>\n",
       "      <td>6.0</td>\n",
       "    </tr>\n",
       "    <tr>\n",
       "      <th>1</th>\n",
       "      <td>10.34</td>\n",
       "      <td>1.66</td>\n",
       "      <td>Male</td>\n",
       "      <td>No</td>\n",
       "      <td>Sun</td>\n",
       "      <td>Dinner</td>\n",
       "      <td>3</td>\n",
       "      <td>16.0</td>\n",
       "    </tr>\n",
       "    <tr>\n",
       "      <th>2</th>\n",
       "      <td>21.01</td>\n",
       "      <td>3.50</td>\n",
       "      <td>Male</td>\n",
       "      <td>No</td>\n",
       "      <td>Sun</td>\n",
       "      <td>Dinner</td>\n",
       "      <td>3</td>\n",
       "      <td>17.0</td>\n",
       "    </tr>\n",
       "    <tr>\n",
       "      <th>3</th>\n",
       "      <td>23.68</td>\n",
       "      <td>3.31</td>\n",
       "      <td>Male</td>\n",
       "      <td>No</td>\n",
       "      <td>Sun</td>\n",
       "      <td>Dinner</td>\n",
       "      <td>2</td>\n",
       "      <td>14.0</td>\n",
       "    </tr>\n",
       "    <tr>\n",
       "      <th>4</th>\n",
       "      <td>24.59</td>\n",
       "      <td>3.61</td>\n",
       "      <td>Female</td>\n",
       "      <td>No</td>\n",
       "      <td>Sun</td>\n",
       "      <td>Dinner</td>\n",
       "      <td>4</td>\n",
       "      <td>15.0</td>\n",
       "    </tr>\n",
       "  </tbody>\n",
       "</table>\n",
       "</div>"
      ],
      "text/plain": [
       "   total_bill   tip     sex smoker  day    time  size  tip_rate\n",
       "0       16.99  1.01  Female     No  Sun  Dinner     2       6.0\n",
       "1       10.34  1.66    Male     No  Sun  Dinner     3      16.0\n",
       "2       21.01  3.50    Male     No  Sun  Dinner     3      17.0\n",
       "3       23.68  3.31    Male     No  Sun  Dinner     2      14.0\n",
       "4       24.59  3.61  Female     No  Sun  Dinner     4      15.0"
      ]
     },
     "execution_count": 8,
     "metadata": {},
     "output_type": "execute_result"
    }
   ],
   "source": [
    "df.head()"
   ]
  },
  {
   "cell_type": "markdown",
   "metadata": {},
   "source": [
    "#### Tidy data principles\n",
    "\n",
    "As mentioned above, the `tips` dataset illustrates the \"tidy\" approach to organising a dataset.\n",
    "The tips csv dataset has been imported into a pandas DataFrame object. Each column contains one variable and there are 244 rows in the dataFrame with one row for each of the 244 observations. "
   ]
  },
  {
   "cell_type": "code",
   "execution_count": 23,
   "metadata": {},
   "outputs": [
    {
     "data": {
      "text/html": [
       "<div>\n",
       "<style scoped>\n",
       "    .dataframe tbody tr th:only-of-type {\n",
       "        vertical-align: middle;\n",
       "    }\n",
       "\n",
       "    .dataframe tbody tr th {\n",
       "        vertical-align: top;\n",
       "    }\n",
       "\n",
       "    .dataframe thead th {\n",
       "        text-align: right;\n",
       "    }\n",
       "</style>\n",
       "<table border=\"1\" class=\"dataframe\">\n",
       "  <thead>\n",
       "    <tr style=\"text-align: right;\">\n",
       "      <th></th>\n",
       "      <th>total_bill</th>\n",
       "      <th>tip</th>\n",
       "      <th>sex</th>\n",
       "      <th>smoker</th>\n",
       "      <th>day</th>\n",
       "      <th>time</th>\n",
       "      <th>size</th>\n",
       "      <th>tip_rate</th>\n",
       "    </tr>\n",
       "  </thead>\n",
       "  <tbody>\n",
       "    <tr>\n",
       "      <th>239</th>\n",
       "      <td>29.03</td>\n",
       "      <td>5.92</td>\n",
       "      <td>Male</td>\n",
       "      <td>No</td>\n",
       "      <td>Sat</td>\n",
       "      <td>Dinner</td>\n",
       "      <td>3</td>\n",
       "      <td>20.0</td>\n",
       "    </tr>\n",
       "    <tr>\n",
       "      <th>240</th>\n",
       "      <td>27.18</td>\n",
       "      <td>2.00</td>\n",
       "      <td>Female</td>\n",
       "      <td>Yes</td>\n",
       "      <td>Sat</td>\n",
       "      <td>Dinner</td>\n",
       "      <td>2</td>\n",
       "      <td>7.0</td>\n",
       "    </tr>\n",
       "    <tr>\n",
       "      <th>241</th>\n",
       "      <td>22.67</td>\n",
       "      <td>2.00</td>\n",
       "      <td>Male</td>\n",
       "      <td>Yes</td>\n",
       "      <td>Sat</td>\n",
       "      <td>Dinner</td>\n",
       "      <td>2</td>\n",
       "      <td>9.0</td>\n",
       "    </tr>\n",
       "    <tr>\n",
       "      <th>242</th>\n",
       "      <td>17.82</td>\n",
       "      <td>1.75</td>\n",
       "      <td>Male</td>\n",
       "      <td>No</td>\n",
       "      <td>Sat</td>\n",
       "      <td>Dinner</td>\n",
       "      <td>2</td>\n",
       "      <td>10.0</td>\n",
       "    </tr>\n",
       "    <tr>\n",
       "      <th>243</th>\n",
       "      <td>18.78</td>\n",
       "      <td>3.00</td>\n",
       "      <td>Female</td>\n",
       "      <td>No</td>\n",
       "      <td>Thur</td>\n",
       "      <td>Dinner</td>\n",
       "      <td>2</td>\n",
       "      <td>16.0</td>\n",
       "    </tr>\n",
       "  </tbody>\n",
       "</table>\n",
       "</div>"
      ],
      "text/plain": [
       "     total_bill   tip     sex smoker   day    time  size  tip_rate\n",
       "239       29.03  5.92    Male     No   Sat  Dinner     3      20.0\n",
       "240       27.18  2.00  Female    Yes   Sat  Dinner     2       7.0\n",
       "241       22.67  2.00    Male    Yes   Sat  Dinner     2       9.0\n",
       "242       17.82  1.75    Male     No   Sat  Dinner     2      10.0\n",
       "243       18.78  3.00  Female     No  Thur  Dinner     2      16.0"
      ]
     },
     "execution_count": 23,
     "metadata": {},
     "output_type": "execute_result"
    }
   ],
   "source": [
    "df.tail()"
   ]
  },
  {
   "cell_type": "code",
   "execution_count": null,
   "metadata": {},
   "outputs": [],
   "source": []
  },
  {
   "cell_type": "markdown",
   "metadata": {},
   "source": [
    "## Descriptive Statistics of the Tips Dataset\n",
    "\n",
    "Pandas `describe` function will give a quick statistic summary of the numerical variables in the dataset. \n",
    "\n",
    "It summarises the numerical variables of the dataframe by including, their count, mean, standard deviation, minimum and maximum values, median and the 25th and 75th percentiles.  These statistics can also be obtained using the various statistics functions such as `mean`, `sd`, `min`, `max` etc. The only numerical variables in this dataset are the `total_bill` amount in dollars, the `tip` amount in dollars and `size` for the number of people in a party. \n",
    "\n",
    "\n",
    "~~The mean value is the average value in the dataset but it may not be typical of the values in the dataset, as it is could be the average over very small or very large values. \n",
    "The median is more like a typical value in the dataset or closer to some of the typical values. \n",
    "Look to see if the mean and median are similar or are much different from each other.\n",
    "If the median and mean are similar then the dataset is probably more balanced. ~~"
   ]
  },
  {
   "cell_type": "code",
   "execution_count": 16,
   "metadata": {},
   "outputs": [
    {
     "data": {
      "text/plain": [
       "<function pandas.core.generic.NDFrame.describe(self, percentiles=None, include=None, exclude=None)>"
      ]
     },
     "execution_count": 16,
     "metadata": {},
     "output_type": "execute_result"
    }
   ],
   "source": [
    "pd.DataFrame.describe #<function pandas.core.generic.NDFrame.describe(self, percentiles=None, include=None, exclude=None)>"
   ]
  },
  {
   "cell_type": "code",
   "execution_count": 9,
   "metadata": {},
   "outputs": [
    {
     "data": {
      "text/html": [
       "<div>\n",
       "<style scoped>\n",
       "    .dataframe tbody tr th:only-of-type {\n",
       "        vertical-align: middle;\n",
       "    }\n",
       "\n",
       "    .dataframe tbody tr th {\n",
       "        vertical-align: top;\n",
       "    }\n",
       "\n",
       "    .dataframe thead th {\n",
       "        text-align: right;\n",
       "    }\n",
       "</style>\n",
       "<table border=\"1\" class=\"dataframe\">\n",
       "  <thead>\n",
       "    <tr style=\"text-align: right;\">\n",
       "      <th></th>\n",
       "      <th>total_bill</th>\n",
       "      <th>tip</th>\n",
       "      <th>size</th>\n",
       "      <th>tip_rate</th>\n",
       "    </tr>\n",
       "  </thead>\n",
       "  <tbody>\n",
       "    <tr>\n",
       "      <th>count</th>\n",
       "      <td>244.00</td>\n",
       "      <td>244.00</td>\n",
       "      <td>244.00</td>\n",
       "      <td>244.00</td>\n",
       "    </tr>\n",
       "    <tr>\n",
       "      <th>mean</th>\n",
       "      <td>19.79</td>\n",
       "      <td>3.00</td>\n",
       "      <td>2.57</td>\n",
       "      <td>16.09</td>\n",
       "    </tr>\n",
       "    <tr>\n",
       "      <th>std</th>\n",
       "      <td>8.90</td>\n",
       "      <td>1.38</td>\n",
       "      <td>0.95</td>\n",
       "      <td>6.10</td>\n",
       "    </tr>\n",
       "    <tr>\n",
       "      <th>min</th>\n",
       "      <td>3.07</td>\n",
       "      <td>1.00</td>\n",
       "      <td>1.00</td>\n",
       "      <td>4.00</td>\n",
       "    </tr>\n",
       "    <tr>\n",
       "      <th>25%</th>\n",
       "      <td>13.35</td>\n",
       "      <td>2.00</td>\n",
       "      <td>2.00</td>\n",
       "      <td>13.00</td>\n",
       "    </tr>\n",
       "    <tr>\n",
       "      <th>50%</th>\n",
       "      <td>17.80</td>\n",
       "      <td>2.90</td>\n",
       "      <td>2.00</td>\n",
       "      <td>15.50</td>\n",
       "    </tr>\n",
       "    <tr>\n",
       "      <th>75%</th>\n",
       "      <td>24.13</td>\n",
       "      <td>3.56</td>\n",
       "      <td>3.00</td>\n",
       "      <td>19.00</td>\n",
       "    </tr>\n",
       "    <tr>\n",
       "      <th>max</th>\n",
       "      <td>50.81</td>\n",
       "      <td>10.00</td>\n",
       "      <td>6.00</td>\n",
       "      <td>71.00</td>\n",
       "    </tr>\n",
       "  </tbody>\n",
       "</table>\n",
       "</div>"
      ],
      "text/plain": [
       "       total_bill     tip    size  tip_rate\n",
       "count      244.00  244.00  244.00    244.00\n",
       "mean        19.79    3.00    2.57     16.09\n",
       "std          8.90    1.38    0.95      6.10\n",
       "min          3.07    1.00    1.00      4.00\n",
       "25%         13.35    2.00    2.00     13.00\n",
       "50%         17.80    2.90    2.00     15.50\n",
       "75%         24.13    3.56    3.00     19.00\n",
       "max         50.81   10.00    6.00     71.00"
      ]
     },
     "execution_count": 9,
     "metadata": {},
     "output_type": "execute_result"
    }
   ],
   "source": [
    "df.describe().round(2) # get statistics summary of the tips dataframe df"
   ]
  },
  {
   "cell_type": "markdown",
   "metadata": {},
   "source": [
    "##### Summary statistics for the dataset\n",
    "\n",
    "(Note I am using back ticks around the dollar sign as the escape `\\` doesn't seem to prevent the dollar sign being taken as a maths formula when I use a second dollar sign in a cell.)\n",
    "\n",
    "- Total bill amount: The average bill amount is just under 20 dollars at `$`19.79 and the median bill amount is 17.8 while individual bill amounts vary from 3 dollars to almost 51 dollars. The standard deviation of the bill size is 8.90 which shows the variability of the total bill amounts.\n",
    "\n",
    "- Tip: The average tip amount is just under 3 dollars across which is close to the median value of 2.9 but individual tips range from a miserable 1 dollar to 10 dollars. \n",
    "\n",
    "- Size: The average party size is 2.56 and the actual party sizes range from 1 to 6 people with a median value of 2.\n",
    "\n",
    "While these statistics at the dataset level give an idea of the values, it would be more interesting to look at the tip size statistics across subsections of the data comparing the different subgroups such as males versus females, smokers vs non smokers, tip size on a week day versus a weekend and time of day. For example I could look at the statistics by sex and see if males or females pay similar type of tips or not, by day of the week to see if tips vary much from one day to another or from a weekday to the weekend or by time of the day. Whether a smoker or non-smoker is more inclined to leave a larger or a smaller tip.\n",
    "\n",
    "The pandas `describe` function only summarises statistics for the numerical variables `tip`, `total_bill` and `size`.\n",
    "In order to get statistics for the other variables I need to do some grouping and filtering.\n",
    "\n",
    "There are several useway ways of accessing or arranging the data such as sorting by value, filtering for a specific condition, boolean selects etc. "
   ]
  },
  {
   "cell_type": "markdown",
   "metadata": {},
   "source": []
  },
  {
   "cell_type": "markdown",
   "metadata": {},
   "source": [
    "### Looking at statistics on tips dataset by groups\n"
   ]
  },
  {
   "cell_type": "markdown",
   "metadata": {},
   "source": [
    "#### Selecting using boolean masks\n",
    "\n",
    "It can be useful to use boolean masks to select particular observations and then get the summary statistics on those. For example:\n",
    "`df[df.loc[:, 'sex'] == 'Male'].describe()` will select all observations in the dataframe for males and then calculate the summary statistics on this.\n",
    "or \n",
    "`df[df.loc[:, 'smoker'] == 'Yes'].describe()` calculates the summary statistics on smokers only."
   ]
  },
  {
   "cell_type": "code",
   "execution_count": 10,
   "metadata": {},
   "outputs": [
    {
     "name": "stdout",
     "output_type": "stream",
     "text": [
      "       total_bill         tip        size    tip_rate\n",
      "count  157.000000  157.000000  157.000000  157.000000\n",
      "mean    20.744076    3.089618    2.630573   15.783439\n",
      "std      9.246469    1.489102    0.955997    6.465211\n",
      "min      7.250000    1.000000    1.000000    4.000000\n",
      "25%     14.000000    2.000000    2.000000   12.000000\n",
      "50%     18.350000    3.000000    2.000000   15.000000\n",
      "75%     24.710000    3.760000    3.000000   19.000000\n",
      "max     50.810000   10.000000    6.000000   71.000000\n"
     ]
    }
   ],
   "source": [
    "print(df[df.loc[:, 'sex'] == 'Male'].describe()) # summary statistics for all rows with Males."
   ]
  },
  {
   "cell_type": "code",
   "execution_count": 11,
   "metadata": {},
   "outputs": [
    {
     "name": "stdout",
     "output_type": "stream",
     "text": [
      "       total_bill        tip       size   tip_rate\n",
      "count   87.000000  87.000000  87.000000  87.000000\n",
      "mean    18.056897   2.833448   2.459770  16.655172\n",
      "std      8.009209   1.159495   0.937644   5.378310\n",
      "min      3.070000   1.000000   1.000000   6.000000\n",
      "25%     12.750000   2.000000   2.000000  14.000000\n",
      "50%     16.400000   2.750000   2.000000  16.000000\n",
      "75%     21.520000   3.500000   3.000000  19.000000\n",
      "max     44.300000   6.500000   6.000000  42.000000\n"
     ]
    }
   ],
   "source": [
    "print(df[df.loc[:, 'sex'] == 'Female'].describe()) # summary statistics for all rows with Males."
   ]
  },
  {
   "cell_type": "markdown",
   "metadata": {},
   "source": [
    "The average tip size for male bill payers is over 3 dollars while the median is also 3 dollars. The average bill amount is 20.74 with a median value of 18.35 dollars. Tip size ranges from 1 to 10 and bill amount ranges from 7.25 to almost 51 dollars.\n",
    "For female bill payers the average tip size is 2.83 dollars and the median tip amount is 2.75.\n",
    "The average bill amount is just over 18 dollars ranging from a minimum of 3 dollars to a maximum of 44.30 with a median value of 16.4.\n",
    "The number of male bill payers is almost twice the number of female bill payers. The standard deviations show that the bill amounts and tips paid by males are more variable than those paid by females.\n",
    "The largest bill and tip was paid for by a male  and the smallest bill size was paid for by a female. \n",
    "Party sizes do not vary much between males and females.\n",
    "Using the new percentage `tip_rate` variable shows that on average that female bill payers give slightly higher tip as a percentage of the total bill amount."
   ]
  },
  {
   "cell_type": "code",
   "execution_count": 20,
   "metadata": {},
   "outputs": [
    {
     "name": "stdout",
     "output_type": "stream",
     "text": [
      "       total_bill        tip       size   tip_rate\n",
      "count   93.000000  93.000000  93.000000  93.000000\n",
      "mean    20.756344   3.008710   2.408602  16.319604\n",
      "std      9.832154   1.401468   0.810751   8.511920\n",
      "min      3.070000   1.000000   1.000000   3.563814\n",
      "25%     13.420000   2.000000   2.000000  10.677083\n",
      "50%     17.920000   3.000000   2.000000  15.384615\n",
      "75%     26.860000   3.680000   3.000000  19.505852\n",
      "max     50.810000  10.000000   5.000000  71.034483\n"
     ]
    }
   ],
   "source": [
    "print(df[df.loc[:, 'smoker'] == 'Yes'].describe()) # summary statistics for all rows with Smokers "
   ]
  },
  {
   "cell_type": "code",
   "execution_count": null,
   "metadata": {},
   "outputs": [],
   "source": []
  },
  {
   "cell_type": "code",
   "execution_count": 21,
   "metadata": {},
   "outputs": [
    {
     "name": "stdout",
     "output_type": "stream",
     "text": [
      "       total_bill         tip        size    tip_rate\n",
      "count  151.000000  151.000000  151.000000  151.000000\n",
      "mean    19.188278    2.991854    2.668874   15.932846\n",
      "std      8.255582    1.377190    1.017984    3.990977\n",
      "min      7.250000    1.000000    1.000000    5.679667\n",
      "25%     13.325000    2.000000    2.000000   13.690561\n",
      "50%     17.590000    2.740000    2.000000   15.562472\n",
      "75%     22.755000    3.505000    3.000000   18.501403\n",
      "max     48.330000    9.000000    6.000000   29.198966\n"
     ]
    }
   ],
   "source": [
    "print(df[df.loc[:, 'smoker'] == 'No'].describe() )# summary statistics for all rows with non-Smokers "
   ]
  },
  {
   "cell_type": "code",
   "execution_count": 22,
   "metadata": {},
   "outputs": [
    {
     "name": "stdout",
     "output_type": "stream",
     "text": [
      "       total_bill        tip       size   tip_rate\n",
      "count   87.000000  87.000000  87.000000  87.000000\n",
      "mean    18.056897   2.833448   2.459770  16.649074\n",
      "std      8.009209   1.159495   0.937644   5.363173\n",
      "min      3.070000   1.000000   1.000000   5.643341\n",
      "25%     12.750000   2.000000   2.000000  14.041645\n",
      "50%     16.400000   2.750000   2.000000  15.558149\n",
      "75%     21.520000   3.500000   3.000000  19.426621\n",
      "max     44.300000   6.500000   6.000000  41.666667\n"
     ]
    }
   ],
   "source": [
    "print(df[df.loc[:, 'sex'] == 'Female'].describe()) # summary statistics for all Females"
   ]
  },
  {
   "cell_type": "markdown",
   "metadata": {},
   "source": [
    "#### [Grouping](https://pandas.pydata.org/pandas-docs/stable/getting_started/10min.html#grouping)\n",
    "\n",
    "The above statistics show some difference between male and female bill payers.\n",
    "Now I will get some statistics for other subsets of the data such as by day, by smoker, by time, by sex or a combination of these variables.\n",
    "Pandas `groupby` function can be used to seperate the dataset into groups based on criteria such as by `sex`, `smoker` etc before applying a function to each group independently and then combining the results back into a data structure.\n",
    "\n",
    "For example `df.groupby([\"sex\",\"smoker\"]).count()` groups the dataframe by sex and by smoker, then calculates the count on each sub-group. This allows you see the tip size for a smoking female versus a non-smoking female or a smoking male. \n",
    "\n",
    "Using the `describe` function on a `groupby` is difficult to display as the number of columns is quite large. I may just use the mean, max etc for now or round the values to display them all."
   ]
  },
  {
   "cell_type": "code",
   "execution_count": 10,
   "metadata": {},
   "outputs": [
    {
     "name": "stdout",
     "output_type": "stream",
     "text": [
      "     total_bill                                           tip                 \\\n",
      "          count  mean  std  min   25%   50%   75%   max count mean  std  min   \n",
      "day                                                                            \n",
      "Fri        19.0  17.0  8.0  6.0  12.0  15.0  22.0  40.0  19.0  3.0  1.0  1.0   \n",
      "Sat        87.0  20.0  9.0  3.0  14.0  18.0  25.0  51.0  87.0  3.0  2.0  1.0   \n",
      "Sun        76.0  21.0  9.0  7.0  15.0  20.0  26.0  48.0  76.0  3.0  1.0  1.0   \n",
      "Thur       62.0  18.0  8.0  8.0  12.0  16.0  20.0  43.0  62.0  3.0  1.0  1.0   \n",
      "\n",
      "                           size                                    tip_rate  \\\n",
      "      25%  50%  75%   max count mean  std  min  25%  50%  75%  max    count   \n",
      "day                                                                           \n",
      "Fri   2.0  3.0  3.0   5.0  19.0  2.0  1.0  1.0  2.0  2.0  2.0  4.0     19.0   \n",
      "Sat   2.0  3.0  3.0  10.0  87.0  3.0  1.0  1.0  2.0  2.0  3.0  5.0     87.0   \n",
      "Sun   2.0  3.0  4.0   6.0  76.0  3.0  1.0  2.0  2.0  2.0  4.0  6.0     76.0   \n",
      "Thur  2.0  2.0  3.0   7.0  62.0  2.0  1.0  1.0  2.0  2.0  2.0  6.0     62.0   \n",
      "\n",
      "                                               \n",
      "      mean  std   min   25%   50%   75%   max  \n",
      "day                                            \n",
      "Fri   17.0  5.0  10.0  13.0  16.0  20.0  26.0  \n",
      "Sat   15.0  5.0   4.0  12.0  15.0  19.0  33.0  \n",
      "Sun   17.0  8.0   6.0  12.0  16.0  19.0  71.0  \n",
      "Thur  16.0  4.0   7.0  14.0  15.0  19.0  27.0  \n"
     ]
    }
   ],
   "source": [
    "pd.set_option('display.max_columns', 50) # want to display all columns of the output\n",
    "print(df.groupby(\"day\").describe().round())# groupby day get mean of"
   ]
  },
  {
   "cell_type": "markdown",
   "metadata": {},
   "source": [
    "Looking at the statistics by day shows that Saturday is the busiest day followed by Sunday with Friday being the quietest of the 4 days. The average tip rate clearly higher at the weekends.\n",
    "The mean party size is higher on a weekend day at 3 people than Thursdays and Fridays where the average party size is 2 people. The average tip rate is lowest on a Saturday and most variable on a Sunday with a standard deviation of 8.\n",
    "\n",
    "Using `groupby` function it is important the order the variables are supplied to the function. The dataset will be first split by the first variable, then the next variables in order. Next I will split the dataset first by `sex` then by `smoker`. The dataset could be further split by `day` and `time` but this makes the output very large and messy! I cna look at this later on if necessary but the plots will be better for this. \n"
   ]
  },
  {
   "cell_type": "code",
   "execution_count": 44,
   "metadata": {},
   "outputs": [
    {
     "name": "stdout",
     "output_type": "stream",
     "text": [
      "              total_bill                                            tip       \\\n",
      "                   count  mean   std  min   25%   50%   75%   max count mean   \n",
      "sex    smoker                                                                  \n",
      "Female No           54.0  18.0   7.0  7.0  13.0  17.0  21.0  36.0  54.0  3.0   \n",
      "       Yes          33.0  18.0   9.0  3.0  13.0  16.0  22.0  44.0  33.0  3.0   \n",
      "Male   No           97.0  20.0   9.0  8.0  14.0  18.0  23.0  48.0  97.0  3.0   \n",
      "       Yes          60.0  22.0  10.0  7.0  15.0  20.0  29.0  51.0  60.0  3.0   \n",
      "\n",
      "               ... size      tip_rate                                          \n",
      "               ...  75%  max    count  mean  std  min   25%   50%   75%   max  \n",
      "sex    smoker  ...                                                             \n",
      "Female No      ...  3.0  6.0     54.0  16.0  4.0  6.0  14.0  15.0  18.0  25.0  \n",
      "       Yes     ...  2.0  4.0     33.0  18.0  7.0  6.0  15.0  17.0  20.0  42.0  \n",
      "Male   No      ...  3.0  6.0     97.0  16.0  4.0  7.0  13.0  16.0  19.0  29.0  \n",
      "       Yes     ...  3.0  5.0     60.0  15.0  9.0  4.0  10.0  14.0  19.0  71.0  \n",
      "\n",
      "[4 rows x 32 columns]\n"
     ]
    }
   ],
   "source": [
    "pd.set_option('display.max_rows', 30)\n",
    "print(df.groupby([\"sex\",\"smoker\"]).describe().round())"
   ]
  },
  {
   "cell_type": "markdown",
   "metadata": {},
   "source": [
    "Male non-smokers represent the largest group of bill payers at a count of 97 while female smokers represents the smallest group of bill payers at just 33. \n",
    "Male smokers have the highest average bill amount at 22 dollars while they are also the most variable with a standard deviation of 10 with bill amounts varying from 7 to 51 dollars. \n",
    "Female smokers have the highest average tipping rate of 18% while male smokers appear to pay the standard tip rate of 15% and are the most variable tippers with the highest standard deviation of 9% with tips varying from 4 to 71 dollars.\n",
    "Both male and female non-smokers are the least variable tippers with a standard deviation of 4%."
   ]
  },
  {
   "cell_type": "code",
   "execution_count": 54,
   "metadata": {},
   "outputs": [
    {
     "name": "stdout",
     "output_type": "stream",
     "text": [
      "            total_bill                                            tip       \\\n",
      "                 count  mean  std   min   25%   50%   75%   max count mean   \n",
      "time   day                                                                   \n",
      "Dinner Fri        12.0  20.0  9.0   6.0  12.0  19.0  24.0  40.0  12.0  3.0   \n",
      "       Sat        87.0  20.0  9.0   3.0  14.0  18.0  25.0  51.0  87.0  3.0   \n",
      "       Sun        76.0  21.0  9.0   7.0  15.0  20.0  26.0  48.0  76.0  3.0   \n",
      "       Thur        1.0  19.0  NaN  19.0  19.0  19.0  19.0  19.0   1.0  3.0   \n",
      "Lunch  Fri         7.0  13.0  3.0   9.0  11.0  13.0  15.0  16.0   7.0  2.0   \n",
      "       Thur       61.0  18.0  8.0   8.0  12.0  16.0  20.0  43.0  61.0  3.0   \n",
      "\n",
      "                                            size                           \\\n",
      "             std  min  25%  50%  75%   max count mean  std  min  25%  50%   \n",
      "time   day                                                                  \n",
      "Dinner Fri   1.0  1.0  2.0  3.0  4.0   5.0  12.0  2.0  1.0  2.0  2.0  2.0   \n",
      "       Sat   2.0  1.0  2.0  3.0  3.0  10.0  87.0  3.0  1.0  1.0  2.0  2.0   \n",
      "       Sun   1.0  1.0  2.0  3.0  4.0   6.0  76.0  3.0  1.0  2.0  2.0  2.0   \n",
      "       Thur  NaN  3.0  3.0  3.0  3.0   3.0   1.0  2.0  NaN  2.0  2.0  2.0   \n",
      "Lunch  Fri   1.0  2.0  2.0  2.0  3.0   3.0   7.0  2.0  1.0  1.0  2.0  2.0   \n",
      "       Thur  1.0  1.0  2.0  2.0  3.0   7.0  61.0  2.0  1.0  1.0  2.0  2.0   \n",
      "\n",
      "                      tip_rate                                           \n",
      "             75%  max    count  mean  std   min   25%   50%   75%   max  \n",
      "time   day                                                               \n",
      "Dinner Fri   2.0  4.0     12.0  16.0  5.0  10.0  12.0  14.0  18.0  26.0  \n",
      "       Sat   3.0  5.0     87.0  15.0  5.0   4.0  12.0  15.0  19.0  33.0  \n",
      "       Sun   4.0  6.0     76.0  17.0  8.0   6.0  12.0  16.0  19.0  71.0  \n",
      "       Thur  2.0  2.0      1.0  16.0  NaN  16.0  16.0  16.0  16.0  16.0  \n",
      "Lunch  Fri   2.0  3.0      7.0  19.0  5.0  12.0  17.0  19.0  21.0  26.0  \n",
      "       Thur  2.0  6.0     61.0  16.0  4.0   7.0  14.0  15.0  19.0  27.0  \n"
     ]
    }
   ],
   "source": [
    "print(df.groupby([\"time\",\"day\"]).describe().round())"
   ]
  },
  {
   "cell_type": "markdown",
   "metadata": {},
   "source": [
    "Looking at when the dining takes place, dinner on saturday is the busiest time recorded for this waiter with 87 observations while there is only 1 bill recorded for dinner on Thursday and 7 bills for lunch on Fridays which has the smallest average bill size of 13 dollars. The total_bill amounts range from a minimum value of \\$3 for a dinner on a Saturday (presumably for one person! - need to look at this) to a maximum bill amount of 51 dollars for another Saturday dinner which we saw above was for a male smoking bill-payer."
   ]
  },
  {
   "cell_type": "code",
   "execution_count": 12,
   "metadata": {},
   "outputs": [
    {
     "data": {
      "text/html": [
       "<div>\n",
       "<style scoped>\n",
       "    .dataframe tbody tr th:only-of-type {\n",
       "        vertical-align: middle;\n",
       "    }\n",
       "\n",
       "    .dataframe tbody tr th {\n",
       "        vertical-align: top;\n",
       "    }\n",
       "\n",
       "    .dataframe thead th {\n",
       "        text-align: right;\n",
       "    }\n",
       "</style>\n",
       "<table border=\"1\" class=\"dataframe\">\n",
       "  <thead>\n",
       "    <tr style=\"text-align: right;\">\n",
       "      <th></th>\n",
       "      <th>total_bill</th>\n",
       "      <th>tip</th>\n",
       "      <th>sex</th>\n",
       "      <th>smoker</th>\n",
       "      <th>day</th>\n",
       "      <th>time</th>\n",
       "      <th>size</th>\n",
       "      <th>tip_rate</th>\n",
       "    </tr>\n",
       "  </thead>\n",
       "  <tbody>\n",
       "    <tr>\n",
       "      <th>0</th>\n",
       "      <td>16.99</td>\n",
       "      <td>1.01</td>\n",
       "      <td>Female</td>\n",
       "      <td>No</td>\n",
       "      <td>Sun</td>\n",
       "      <td>Dinner</td>\n",
       "      <td>2</td>\n",
       "      <td>6.0</td>\n",
       "    </tr>\n",
       "    <tr>\n",
       "      <th>1</th>\n",
       "      <td>10.34</td>\n",
       "      <td>1.66</td>\n",
       "      <td>Male</td>\n",
       "      <td>No</td>\n",
       "      <td>Sun</td>\n",
       "      <td>Dinner</td>\n",
       "      <td>3</td>\n",
       "      <td>16.0</td>\n",
       "    </tr>\n",
       "    <tr>\n",
       "      <th>2</th>\n",
       "      <td>21.01</td>\n",
       "      <td>3.50</td>\n",
       "      <td>Male</td>\n",
       "      <td>No</td>\n",
       "      <td>Sun</td>\n",
       "      <td>Dinner</td>\n",
       "      <td>3</td>\n",
       "      <td>17.0</td>\n",
       "    </tr>\n",
       "    <tr>\n",
       "      <th>3</th>\n",
       "      <td>23.68</td>\n",
       "      <td>3.31</td>\n",
       "      <td>Male</td>\n",
       "      <td>No</td>\n",
       "      <td>Sun</td>\n",
       "      <td>Dinner</td>\n",
       "      <td>2</td>\n",
       "      <td>14.0</td>\n",
       "    </tr>\n",
       "    <tr>\n",
       "      <th>4</th>\n",
       "      <td>24.59</td>\n",
       "      <td>3.61</td>\n",
       "      <td>Female</td>\n",
       "      <td>No</td>\n",
       "      <td>Sun</td>\n",
       "      <td>Dinner</td>\n",
       "      <td>4</td>\n",
       "      <td>15.0</td>\n",
       "    </tr>\n",
       "  </tbody>\n",
       "</table>\n",
       "</div>"
      ],
      "text/plain": [
       "   total_bill   tip     sex smoker  day    time  size  tip_rate\n",
       "0       16.99  1.01  Female     No  Sun  Dinner     2       6.0\n",
       "1       10.34  1.66    Male     No  Sun  Dinner     3      16.0\n",
       "2       21.01  3.50    Male     No  Sun  Dinner     3      17.0\n",
       "3       23.68  3.31    Male     No  Sun  Dinner     2      14.0\n",
       "4       24.59  3.61  Female     No  Sun  Dinner     4      15.0"
      ]
     },
     "execution_count": 12,
     "metadata": {},
     "output_type": "execute_result"
    }
   ],
   "source": [
    "df.head()"
   ]
  },
  {
   "cell_type": "markdown",
   "metadata": {},
   "source": [
    "<a id=\"visualising\"></a>\n",
    "## Visualising the tips dataset\n",
    "\n",
    "#### Seaborn plots of the tips dataset\n",
    "While `pandas` functions were used above to look at a summary statistics of the dataset using statistics, the `seaborn` package will now be used to create some visualisations of the dataset that can be used to verify these summary statistics. `pandas` does have some basic plotting functionality built in from the `matplotlib` package. `seaborn` is built on top of`matplotlib` and closely integrated with `pandas` data structures.\n",
    " \n",
    "Plots can highlight any obvious relationships between the different variables in the dataset. They can also be used to identify any groups of observations that are clearly seperate to other groups of observations. \n",
    " \n",
    "The `pairplot` function in seaborn show scatter plots of the variables against each other. A kernel density function or histogram is displayed down the diagonal. \n",
    "\n",
    "The [introduction to seaborn](https://seaborn.pydata.org/introduction.html#an-introduction-to-seaborn) uses an example of how `seaborn` plots can show how it's \"dataset-oriented plotting functions operate on dataframes and arrays containing whole datasets and internally perform the necessary semantic mapping and statistical aggregation to produce informative plots.\"\n",
    "Here is the code for creating a faceted scatter plot with multiple semantic variables.\n",
    "\n",
    "```python\n",
    "tips = sns.load_dataset(\"tips\")\n",
    "sns.relplot(x=\"total_bill\", y=\"tip\", col=\"time\", hue=\"smoker\", style=\"smoker\", size=\"size\", data=tips)\n",
    "```\n",
    "This plot shows the relationship between five variables in the tips dataset. The two numeric variables (total_bill and tip) determined the position of each point on the axes, and the third (size) determined the size of each point. One categorical variable split the dataset onto two different axes (facets), and the other determined the color and shape of each point.\n",
    "This plot required only a single call to the seaborn function relplot(). \n",
    "\n",
    "While this plot makes use of the built-in `tips` dataset that comes with the `seaborn` package I will continue to use the `df` DataFrame object created from reading in the csv file with the additional variables.\n"
   ]
  },
  {
   "cell_type": "code",
   "execution_count": 39,
   "metadata": {},
   "outputs": [
    {
     "data": {
      "text/plain": [
       "<seaborn.axisgrid.FacetGrid at 0x1a1fa9bcf8>"
      ]
     },
     "execution_count": 39,
     "metadata": {},
     "output_type": "execute_result"
    },
    {
     "data": {
      "image/png": "[encoded data removed]",
      "text/plain": [
       "<Figure size 792.875x360 with 2 Axes>"
      ]
     },
     "metadata": {
      "needs_background": "light"
     },
     "output_type": "display_data"
    }
   ],
   "source": [
    "# running the  example code above \n",
    "\n",
    "tips = sns.load_dataset(\"tips\")\n",
    "sns.relplot(x=\"total_bill\", y=\"tip\", col=\"time\",\n",
    "            hue=\"smoker\", style=\"smoker\", size=\"size\",\n",
    "            data=tips)"
   ]
  },
  {
   "cell_type": "markdown",
   "metadata": {},
   "source": [
    "There are many different ways to visualise this dataset using the seaborn library and no universal best way.\n",
    "I am now going to look through the examples and documentation on <https://seaborn.pydata.org> and see which ones are most suitable for the tips dataset and learn more about the seaborn plotting functions.\n",
    "\n",
    "There are many ways to customise the plots and I will look at these also. For the moment I am going to create some subplots to avoid this notebook getting too long.\n",
    "\n",
    "Scatter and line plots can be used to visualise relationships between numerical variables. The function `relplot()` can visualize many different statistical relationships. \n",
    "\n",
    "The `catplot()` can show different representations of the relationship between one numeric variable and one (or more) categorical variables by specifying the `kind` of plot to use. \n",
    "- `kind=\"swarm\"` creates a scatter plot where the positions of the points along the categorical axis are adjusted to avoid overlapping points while \n",
    "    `sns.catplot(x=\"day\", y=\"total_bill\", hue=\"smoker\", kind=\"swarm\", data=tips)`\n",
    "\n",
    "- `kind = \"violin\"` creates a kernel density estimation to represent the underlying distribution that the points are sampled from.\n",
    "`sns.catplot(x=\"day\", y=\"total_bill\", hue=\"smoker\",kind=\"violin\", split=True, data=tips)`\n",
    "\n",
    "- `kind =\"bar\"` to show only the mean value and its confidence interval within each nested category\n",
    "\n",
    "`sns.catplot(x=\"day\", y=\"total_bill\", hue=\"smoker\",kind=\"bar\", data=tips)`\n",
    "\n",
    "\n",
    "[Specialised categorical plots](https://seaborn.pydata.org/introduction.html#specialized-categorical-plots)"
   ]
  },
  {
   "cell_type": "markdown",
   "metadata": {},
   "source": [
    "The [Figure-level and axes-level functions](https://seaborn.pydata.org/introduction.html#figure-level-and-axes-level-functions) section of the seaborn introductory guide discusses the differences between seaborn plotting functions. \n",
    "\n",
    "“figure-level” functions are optimized for exploratory analysis because they set up the matplotlib figure containing the plot(s) and make it easy to spread out the visualization across multiple axes using seaborn `FacetGrid` to place the legend outside the axes. \n",
    "\n",
    ">Each different figure-level plot kind combines a particular “axes-level” function with the FacetGrid object. For example, the scatter plots are drawn using the scatterplot() function, and the bar plots are drawn using the barplot() function. These functions are called “axes-level” because they draw onto a single matplotlib axes and don’t otherwise affect the rest of the figure.\n",
    "\n",
    "Figure-level function must control the figure it lives in, while axes-level functions can be combined into a more complex matplotlib figure with other axes that may or may not have seaborn plots on them.\n",
    "\"Axes-level\" plot functions take an `ax=` parameter while a \"figure-level\" function does not. A figure-level functions returns the `FacetGrid` while axes-level functions return the `matplotlib` axes.\n"
   ]
  },
  {
   "cell_type": "markdown",
   "metadata": {},
   "source": [
    "[plotting with categorical data](https://seaborn.pydata.org/tutorial/categorical.html#plotting-with-categorical-data)\n",
    ">In seaborn, there are several different ways to visualize a relationship involving categorical data. Similar to the relationship between relplot() and either scatterplot() or lineplot(), there are two ways to make these plots. There are a number of axes-level functions for plotting categorical data in different ways and a figure-level interface, catplot(), that gives unified higher-level access to them.\n",
    "\n",
    "Categorical data can be visualised either using axes-level functions for plotting categorical data in different ways or at the figure-level.\n",
    "\n",
    "A [barplot](https://seaborn.pydata.org/generated/seaborn.barplot.html#seaborn-barplot) is used to show point estimates and confidence intervals as rectangular bars.\n",
    "\n",
    "`seaborn.barplot(x=None, y=None, hue=None, data=None, order=None, hue_order=None, estimator=<function mean>, ci=95, n_boot=1000, units=None, orient=None, color=None, palette=None, saturation=0.75, errcolor='.26', errwidth=None, capsize=None, dodge=True, ax=None, **kwargs)¶`\n",
    "\n",
    ">A bar plot represents an estimate of central tendency for a numeric variable with the height of each rectangle and provides some indication of the uncertainty around that estimate using error bars. Bar plots include 0 in the quantitative axis range, and they are a good choice when 0 is a meaningful value for the quantitative variable, and you want to make comparisons against it.\n",
    "\n",
    "The barplots in seaborn show the mean values and not the count of the values. This can be changed by setting the `estimator` parameter to be the sum or std but there does not seem to be a count alternative. However [stack overflow 36271363](https://stackoverflow.com/a/36271363) suggests setting the estimator equal to `len`. \n",
    "Actually a countplot is a special case of the barplot to show the number of observations rather than computing a statistic for a second variable."
   ]
  },
  {
   "cell_type": "markdown",
   "metadata": {},
   "source": [
    "Here I draw some barplots using the axes level `barplot` function and showing the count of customers per day and by sex. Any variable could be used on the y-axis when `len` is used instead of the mean as the estimator."
   ]
  },
  {
   "cell_type": "code",
   "execution_count": 136,
   "metadata": {},
   "outputs": [
    {
     "data": {
      "text/plain": [
       "<matplotlib.axes._subplots.AxesSubplot at 0x1a1fa938d0>"
      ]
     },
     "execution_count": 136,
     "metadata": {},
     "output_type": "execute_result"
    },
    {
     "data": {
      "image/png": "[encoded data removed]",
      "text/plain": [
       "<Figure size 864x288 with 3 Axes>"
      ]
     },
     "metadata": {},
     "output_type": "display_data"
    }
   ],
   "source": [
    "# a barplot showing the count of total_bill \n",
    "sns.set(style=\"whitegrid\")\n",
    "\n",
    "f, axes = plt.subplots(1, 3, figsize=(12, 4)) # set up 1 by 2 plot and figure size 12 by 4\n",
    "order=[\"Thur\", \"Fri\", \"Sat\",\"Sun\"] # the order to be shown on the plot\n",
    "\n",
    "# plot number of tips (or total_bill) by sex using length as the estimator instead of mean\n",
    "sns.barplot(x =\"day\", y=\"tip\", hue=\"sex\", palette=[\"pink\",\"skyblue\"],data =df, order=order, estimator=len, ax=axes[0]) #\n",
    "# plot number of tips (or total_bill) by smoker using length as the estimator instead of mean\n",
    "sns.barplot(x =\"day\", y=\"tip\", hue=\"smoker\", palette=[\"g\",\"r\"],data =df, order=order, estimator=len, ax=axes[1]) # More \n",
    "\n",
    "# plot number of tips (or total_bill) by smoker using length as the estimator instead of mean\n",
    "sns.barplot(x =\"time\", y=\"tip\", hue=\"sex\", palette=[\"pink\",\"skyblue\"],data =df,estimator=len, ax=axes[2]) # More"
   ]
  },
  {
   "cell_type": "markdown",
   "metadata": {},
   "source": [
    "#### What do the bar plots tell at a glance?\n",
    "\n",
    "1. There are almost equal numbers of male and female bill-payers on Thursdays and Fridays but the number of male bill-player far out-weighs female bill-payers at the weekend. (maybe more first dates or just more men out entertaining at the weekends!)\n",
    "2. There are more non-smokers than smokers on any day but especially on Thursdays and Sundays. While there are much less customers recorded for Fridays than any other days, these customers are mostly smokers. (perhaps after work?!).\n",
    "3. There are almost equal number of male and female bill-paying customers for lunch but far more males for dinner. There are more male paying customers overall.\n",
    "\n",
    "Of course this dataset is just for one waiter who may work less hours on a Friday?\n"
   ]
  },
  {
   "cell_type": "markdown",
   "metadata": {},
   "source": [
    "#### Boxplots - distribution of observations within categories"
   ]
  },
  {
   "cell_type": "markdown",
   "metadata": {},
   "source": [
    "A [box plot](https://seaborn.pydata.org/generated/seaborn.boxplot.html#seaborn-boxplot) (or box-and-whisker plot) \n",
    ">shows the distribution of quantitative data in a way that facilitates comparisons between variables or across levels of a categorical variable. The box shows the quartiles of the dataset while the whiskers extend to show the rest of the distribution, except for points that are determined to be “outliers” using a method that is a function of the inter-quartile range.\n",
    "\n",
    "A box plot can be drawn for a single quantitative variable on it's own or grouped by a categorical variable or with nested groupings for two categorical variables. the order of the box can be controlled by passign an explicit order.\n",
    "Here I will draw several box plots for the tips dataset.\n",
    "As there are some outliers in tip size, the values are squashed into a smaller box to fit the outliers. "
   ]
  },
  {
   "cell_type": "code",
   "execution_count": 71,
   "metadata": {},
   "outputs": [
    {
     "data": {
      "image/png": "[encoded data removed]",
      "text/plain": [
       "<Figure size 936x360 with 3 Axes>"
      ]
     },
     "metadata": {},
     "output_type": "display_data"
    }
   ],
   "source": [
    "%matplotlib inline\n",
    "\n",
    "sns.set(style=\"whitegrid\")\n",
    "\n",
    "# set up 2 by 2 plots, overall figure size 12 by 8\n",
    "f, axes = plt.subplots(1, 3, sharey=False, figsize=(13, 5))\n",
    "\n",
    "# bill amount by day, grouped by sex\n",
    "sns.boxplot(x=\"day\",y=\"total_bill\" ,hue=\"sex\",data=df, palette=[\"pink\",\"skyblue\"], order=[\"Thur\", \"Fri\", \"Sat\",\"Sun\"], ax=axes[0]) # controlling the day or\n",
    "# bill amount by sex, grouped by smoking status\n",
    "sns.boxplot(x=\"sex\",y=\"total_bill\" ,hue=\"smoker\",data=df, palette=[\"g\",\"r\"], ax=axes[1]) \n",
    "# bill amount by dining time, grouped by sex\n",
    "sns.boxplot(x=\"time\",y=\"total_bill\" ,hue=\"sex\",data=df, palette=[\"pink\",\"skyblue\"], ax=axes[2]) # controlling the day order \n",
    "sns.despine(offset=10, trim=True) # remove the spines\n",
    "plt.suptitle(\"Box plots of Bill amount\")\n",
    "plt.show() # get rid of text above plots"
   ]
  },
  {
   "cell_type": "markdown",
   "metadata": {},
   "source": [
    "### outliers.\n",
    "There is one particular observation with a very large tip rate compared to all other tips. This is causing the boxplots to be squashed down. I'm not sure how to fix this as otherwise there would be no need to transform the variable.\n",
    "I will have a look at this observations here by sorting the dataframe according to the tip size.\n",
    "This tip relates to row index 172 where a male paid over 5 dollars for a tip on a meal that cost just over 7 dollars!\n",
    "This was for a dinner for two on a Sunday in the smoking section which is a bit unbelievable anyway at a total bill amount of 7.25! Possibly part of a bill that was already paid ?\n",
    "\n",
    ">172        7.25  5.15    Male    Yes  Sun  Dinner     2      71.0     True\n",
    "\n",
    "I will leave this single observation out for the box plot just here using the [drop function](https://pandas.pydata.org/pandas-docs/stable/reference/api/pandas.DataFrame.drop.html?highlight=drop#pandas-dataframe-drop)"
   ]
  },
  {
   "cell_type": "code",
   "execution_count": 151,
   "metadata": {},
   "outputs": [
    {
     "data": {
      "text/plain": [
       "<function pandas.core.frame.DataFrame.drop(self, labels=None, axis=0, index=None, columns=None, level=None, inplace=False, errors='raise')>"
      ]
     },
     "execution_count": 151,
     "metadata": {},
     "output_type": "execute_result"
    }
   ],
   "source": [
    "pd.DataFrame.drop"
   ]
  },
  {
   "cell_type": "code",
   "execution_count": 152,
   "metadata": {},
   "outputs": [
    {
     "name": "stdout",
     "output_type": "stream",
     "text": [
      "     total_bill   tip     sex smoker  day    time  size  tip_rate  weekend\n",
      "172        7.25  5.15    Male    Yes  Sun  Dinner     2      71.0     True\n",
      "178        9.60  4.00  Female    Yes  Sun  Dinner     2      42.0     True\n"
     ]
    }
   ],
   "source": [
    "print(df.sort_values(by='tip_rate', ascending = False).head(2) )# sort by tip size and look at top 5 tip sizes"
   ]
  },
  {
   "cell_type": "code",
   "execution_count": 153,
   "metadata": {},
   "outputs": [
    {
     "name": "stdout",
     "output_type": "stream",
     "text": [
      "     total_bill  tip     sex smoker  day    time  size  tip_rate  weekend\n",
      "178        9.60  4.0  Female    Yes  Sun  Dinner     2      42.0     True\n",
      "67         3.07  1.0  Female    Yes  Sat  Dinner     1      33.0     True\n"
     ]
    }
   ],
   "source": [
    "# sorting in descending order with the outlier dropped.\n",
    "print(df.drop(172).sort_values(by='tip_rate', ascending = False).head(2) )# sort by tip size and look at top 5 tip sizes\n"
   ]
  },
  {
   "cell_type": "code",
   "execution_count": 162,
   "metadata": {},
   "outputs": [
    {
     "data": {
      "image/png": "[encoded data removed]",
      "text/plain": [
       "<Figure size 936x360 with 3 Axes>"
      ]
     },
     "metadata": {},
     "output_type": "display_data"
    }
   ],
   "source": [
    "%matplotlib inline\n",
    "\n",
    "sns.set(style=\"whitegrid\")\n",
    "\n",
    "# set up 2 by 2 plots, overall figure size 12 by 8\n",
    "f, axes = plt.subplots(1, 3, sharey=False, figsize=(13, 5))\n",
    "# bill amount by day, grouped by sex\n",
    "sns.boxplot(x=\"day\",y=\"tip_rate\" ,hue=\"sex\",data=df.drop(172), palette=[\"pink\",\"skyblue\"], order=[\"Thur\", \"Fri\", \"Sat\",\"Sun\"], ax=axes[0]) # controlling the day or\n",
    "# bill amount by sex, grouped by smoking status\n",
    "sns.boxplot(x=\"sex\",y=\"tip_rate\" ,hue=\"smoker\",data=df.drop(172), palette=[\"g\",\"r\"], ax=axes[1]) \n",
    "# bill amount by dining time, grouped by sex\n",
    "sns.boxplot(x=\"time\",y=\"tip_rate\" ,hue=\"sex\",data=df.drop(172), palette=[\"pink\",\"skyblue\"], ax=axes[2]) # controlling the day order \n",
    "sns.despine(offset=10, trim=True) # remove the spines\n",
    "\n",
    "plt.suptitle(\"Box plots of tipping rate\")\n",
    "plt.show() # get rid of text above plots"
   ]
  },
  {
   "cell_type": "markdown",
   "metadata": {},
   "source": [
    "The range of tip sizes are broadly similar each day but with higher tips paid on Sundays and more unusual behaviour on Saturdays with several outliers.\n",
    "There is less variability in the tips paid by females than males with some unusually higher tips paid by males.\n",
    "Dinner is more lucrative for tips."
   ]
  },
  {
   "cell_type": "markdown",
   "metadata": {},
   "source": [
    "### Visualise dataset structure\n",
    "\n",
    "A seaborn `jointplot` is a figure-level function for visualising using multiple plots to show the structure of the dataset.\n",
    "`jointplot` looks at a single relationship while a `pairplot` shows all pairwise relationships and marginal distributions which can be conditioned on a categorical variable using `hue`. \n",
    "\n"
   ]
  },
  {
   "cell_type": "code",
   "execution_count": 102,
   "metadata": {},
   "outputs": [
    {
     "data": {
      "text/plain": [
       "<seaborn.axisgrid.JointGrid at 0x1a222856a0>"
      ]
     },
     "execution_count": 102,
     "metadata": {},
     "output_type": "execute_result"
    },
    {
     "data": {
      "image/png": "[encoded data removed]",
      "text/plain": [
       "<Figure size 432x432 with 3 Axes>"
      ]
     },
     "metadata": {
      "needs_background": "light"
     },
     "output_type": "display_data"
    }
   ],
   "source": [
    "sns.jointplot(x=\"tip\", y=\"total_bill\",data=tips)"
   ]
  },
  {
   "cell_type": "code",
   "execution_count": null,
   "metadata": {},
   "outputs": [],
   "source": []
  },
  {
   "cell_type": "markdown",
   "metadata": {},
   "source": []
  },
  {
   "cell_type": "code",
   "execution_count": 103,
   "metadata": {
    "scrolled": true
   },
   "outputs": [
    {
     "data": {
      "image/png": "[encoded data removed]",
      "text/plain": [
       "<Figure size 864x432 with 4 Axes>"
      ]
     },
     "metadata": {
      "needs_background": "light"
     },
     "output_type": "display_data"
    }
   ],
   "source": [
    "df.plot(subplots=True, figsize=(12,6))\n",
    "plt.show()"
   ]
  },
  {
   "cell_type": "markdown",
   "metadata": {},
   "source": []
  },
  {
   "cell_type": "code",
   "execution_count": 34,
   "metadata": {},
   "outputs": [
    {
     "data": {
      "text/plain": [
       "<seaborn.axisgrid.FacetGrid at 0x1a25032780>"
      ]
     },
     "execution_count": 34,
     "metadata": {},
     "output_type": "execute_result"
    },
    {
     "data": {
      "image/png": "[encoded data removed]",
      "text/plain": [
       "<Figure size 792.875x360 with 2 Axes>"
      ]
     },
     "metadata": {
      "needs_background": "light"
     },
     "output_type": "display_data"
    }
   ],
   "source": [
    "sns.relplot(x=\"total_bill\", y=\"tip\", col=\"time\",\n",
    "            hue=\"smoker\", style=\"smoker\", size=\"size\",\n",
    "            data=df)"
   ]
  },
  {
   "cell_type": "code",
   "execution_count": 35,
   "metadata": {},
   "outputs": [
    {
     "data": {
      "text/plain": [
       "<seaborn.axisgrid.FacetGrid at 0x1a2516cf28>"
      ]
     },
     "execution_count": 35,
     "metadata": {},
     "output_type": "execute_result"
    },
    {
     "data": {
      "image/png": "[encoded data removed]",
      "text/plain": [
       "<Figure size 413.359x360 with 1 Axes>"
      ]
     },
     "metadata": {
      "needs_background": "light"
     },
     "output_type": "display_data"
    }
   ],
   "source": [
    "sns.catplot(x=\"day\", y=\"total_bill\", hue=\"smoker\",\n",
    "            kind=\"swarm\", data=df)"
   ]
  },
  {
   "cell_type": "code",
   "execution_count": 36,
   "metadata": {},
   "outputs": [
    {
     "data": {
      "text/plain": [
       "<matplotlib.axes._subplots.AxesSubplot at 0x1a25329588>"
      ]
     },
     "execution_count": 36,
     "metadata": {},
     "output_type": "execute_result"
    },
    {
     "data": {
      "image/png": "[encoded data removed]",
      "text/plain": [
       "<Figure size 432x288 with 1 Axes>"
      ]
     },
     "metadata": {
      "needs_background": "light"
     },
     "output_type": "display_data"
    }
   ],
   "source": [
    "sns.boxplot(x=\"day\", y=\"tip\", data=df)"
   ]
  },
  {
   "cell_type": "markdown",
   "metadata": {},
   "source": [
    "#### histograms and kernel density function of tip and total_bill"
   ]
  },
  {
   "cell_type": "code",
   "execution_count": 37,
   "metadata": {},
   "outputs": [
    {
     "data": {
      "text/plain": [
       "<matplotlib.axes._subplots.AxesSubplot at 0x1a254e2c50>"
      ]
     },
     "execution_count": 37,
     "metadata": {},
     "output_type": "execute_result"
    },
    {
     "data": {
      "image/png": "[encoded data removed]",
      "text/plain": [
       "<Figure size 432x288 with 1 Axes>"
      ]
     },
     "metadata": {
      "needs_background": "light"
     },
     "output_type": "display_data"
    }
   ],
   "source": [
    "sns.distplot(df['tip'])"
   ]
  },
  {
   "cell_type": "code",
   "execution_count": 38,
   "metadata": {},
   "outputs": [
    {
     "data": {
      "text/plain": [
       "<matplotlib.axes._subplots.AxesSubplot at 0x1a255d4518>"
      ]
     },
     "execution_count": 38,
     "metadata": {},
     "output_type": "execute_result"
    },
    {
     "data": {
      "image/png": "[encoded data removed]",
      "text/plain": [
       "<Figure size 432x288 with 1 Axes>"
      ]
     },
     "metadata": {
      "needs_background": "light"
     },
     "output_type": "display_data"
    }
   ],
   "source": [
    "sns.distplot(df['total_bill'])"
   ]
  },
  {
   "cell_type": "markdown",
   "metadata": {},
   "source": [
    "***\n",
    "# Part 2 Regression: Discuss and analyse whether there is a relationship between the total bill and tip amount."
   ]
  },
  {
   "cell_type": "markdown",
   "metadata": {},
   "source": [
    "***\n",
    "# Part 3 Analysis: Analyse the relationship between the variables within the dataset.\n",
    "Analyse all pairs of variables or just a subset of variables."
   ]
  },
  {
   "cell_type": "markdown",
   "metadata": {},
   "source": []
  },
  {
   "cell_type": "markdown",
   "metadata": {},
   "source": [
    "***"
   ]
  },
  {
   "cell_type": "code",
   "execution_count": 40,
   "metadata": {},
   "outputs": [
    {
     "name": "stdout",
     "output_type": "stream",
     "text": [
      "Instructions.pdf   README.md          notes.ipynb        tips-project.ipynb\n",
      "LICENSE            matplotliblogo.png seaborn.png\n"
     ]
    }
   ],
   "source": [
    "!ls"
   ]
  },
  {
   "cell_type": "markdown",
   "metadata": {},
   "source": [
    "***\n",
    "<a id=\"references\"></a>\n",
    "# References\n",
    "\n",
    "### The Tips dataset\n",
    "- [1] Bryant, P. G. and Smith, M (1995) Practical Data Analysis: Case Studies in Business Statistics. Homewood, IL: Richard D. Irwin Publishing.\n",
    "- [2][Tidy Data by Hadley Wickham](https://vita.had.co.nz/papers/tidy-data.pdf)\n",
    "\n",
    "# References\n",
    "- **[Python.org](https://www.python.org/)**  \n",
    "- **[GitHub guides - Mastering Markdown](https://guides.github.com/features/mastering-markdown/)**  \n",
    "- **[Project Jupyter](https://jupyter.org/)**  \n",
    "- **[seaborn.pydata.org](https://seaborn.pydata.org/)**  \n",
    "- **[tips dataset on Michael Waskon GitHub](https://github.com/mwaskom/seaborn-data/blob/master/tips.csv.)**  \n",
    "- **[The R Datasets](http://vincentarelbundock.github.io/Rdatasets/datasets.html)** - including the tips dataset\n",
    "- **[seaborn](https://seaborn.pydata.org/introduction.html#introduction)**  \n",
    "- **[ipython magic commands ](https://ipython.readthedocs.io/en/stable/interactive/magics.html)**  \n",
    "\n",
    "### Python, GitHub and Jupyter resources\n",
    "- [python.org](https://docs.python.org/3/library/index.html)\n",
    "- Python for Data Analysis - Chapter 4 NumPy Basics: Arrays and Vectorised Computation by Wes McKinney\n",
    "- [Python Data Science Handbook by Jake VanderPlas ](https://jakevdp.github.io/PythonDataScienceHandbook/) \n",
    "- [Jake VanderPlas Website](http://vanderplas.com)\n",
    "- [numpy quickstart tutorial](https://numpy.org/devdocs/user/quickstart.html)\n",
    "\n",
    "\n",
    "- [GitHub Flavoured Markdown](https://github.github.com/gfm/)\n",
    "- [Jupyter Notebook documentation](https://jupyter-notebook.readthedocs.io/en/stable/notebook.html#basic-workflow)\n",
    "- [Jupyter Notebook Tips, Tricks, and Shortcuts](https://www.dataquest.io/blog/jupyter-notebook-tips-tricks-shortcuts/)\n",
    "- [python random docs](https://docs.python.org/3/library/random.html#module-random)\n",
    "-[LaTeX equations in Jupyter](https://jupyter-notebook.readthedocs.io/en/stable/examples/Notebook/Working%20With%20Markdown%20Cells.html#LaTeX-equations)\n",
    "- [pythonprogramming.net](https://pythonprogramming.net)\n",
    "\n",
    "- Jupyter logo.  Cameron Oelsen [BSD (http://opensource.org/licenses/bsd-license.php)]\n",
    "\n",
    "- [online](http://onlinestatbook.com)\n",
    "\n",
    "\n",
    "[toc](#toc)\n",
    "***"
   ]
  },
  {
   "cell_type": "markdown",
   "metadata": {},
   "source": [
    "### Learning some markdown and magic commands to run in the Jupyter notebook \n",
    "\n",
    "\n",
    "### learning latex... \n",
    "\n",
    "see cheat sheet at [www.nyu.edu](https://www.nyu.edu/projects/beber/files/Chang_LaTeX_sheet.pdf)\n",
    "or [wch.github.io](https://wch.github.io/latexsheet/latexsheet-0.png)\n",
    "\n",
    "\n",
    "$e^{i\\pi} + 1 = 0$\n",
    "$$e^x=\\sum_{i=0}^\\infty \\frac{1}{i!}x^i$$\n",
    "\n",
    "$\\sigma$\n",
    "$$\\sigma$$\n",
    "$\\mu$\n",
    "\n",
    "x~  $N(\\mu,\\sigma^2)$\n",
    "\n",
    "### images\n",
    "to resize the image, I need to use html instead of markdown and use a css style"
   ]
  },
  {
   "cell_type": "code",
   "execution_count": null,
   "metadata": {},
   "outputs": [],
   "source": []
  }
 ],
 "metadata": {
  "kernelspec": {
   "display_name": "Python 3",
   "language": "python",
   "name": "python3"
  },
  "language_info": {
   "codemirror_mode": {
    "name": "ipython",
    "version": 3
   },
   "file_extension": ".py",
   "mimetype": "text/x-python",
   "name": "python",
   "nbconvert_exporter": "python",
   "pygments_lexer": "ipython3",
   "version": "3.7.3"
  }
 },
 "nbformat": 4,
 "nbformat_minor": 2
}
