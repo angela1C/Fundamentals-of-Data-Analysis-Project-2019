{
 "cells": [
  {
   "cell_type": "markdown",
   "metadata": {},
   "source": [
    "just copying over work on regression before deleting excess out of project"
   ]
  },
  {
   "cell_type": "markdown",
   "metadata": {},
   "source": [
    "# Part 2 Regression: Discuss and analyse whether there is a relationship between the total bill and tip amount.\n",
    "In this section I will look at the relationship between the total bill and the tip amount using regression. My primary references are the lecture notes and chapter 9 of Experiment Design and Analysis by Howard J Seltman."
   ]
  },
  {
   "cell_type": "markdown",
   "metadata": {},
   "source": [
    "***\n",
    "### Multivariate non graphical EDA of the Tips dataset.\n",
    "\n",
    "Part 1 above looked at the statistics for the variables in the Tips dataset and also used plots to visualise the distribution of the data in the Tips dataset. Part 2 concerns the relationship between the total bill amount and the tip, if there is one.\n",
    "Following \"Experimental Design and Analysis\" by Howard J. Seltman the next step would be to do some multivariate non-graphical exploratory data analysis and then graphical analysis. According to Seltman cross tabulation is the basic non-graphical EDA technique. This is where two way tables are constructed using the levels of one variable against the levels of another variable. It can also be used for more than two variables by cross tabulating two or more variables against each level of a third variable. \n",
    "\n",
    "For two quantitative variables such as the total bill amount and the tip amount, the covariance and correlation are statistics to consider. The correlation is a statistical method used to determine whether a linear relationship between variables exists and shows if one variable tends to occur with large or small values of another variable.\n",
    "\n",
    "The correlation statistics are computed from pairs of arguments. The correlation of the measurements can be got using the pandas `corr` method on the dataframe. If there is a strong positive relationship between the variables, the value of the correlation coefficient will be close to 1, while a strong negative relationship will have a correlation coefficient close to -1. A value close to zero would indicate that there is no relationship between the variables.\n",
    "\n",
    "The covariance is a measure of how much two variables vary with each other and shows how much and in what direction one variable will change when another one does. If a covariance is positive then when one measurement is above it's mean then the other measurement will more than likely be above it's mean and vice versa while with  a negative covariance when one variable is above the mean the other measurement is likely to be below it's mean. A zero covariance implies that the two variables vary independently of each other. The correlation is easier to interpret than the covariance. \n",
    "Correlation does not depend on units of measurement and does not depend on which variable is x or y. $r$ is the symbol used for sample correlation and $\\rho$ is the symbol for the population correlation."
   ]
  },
  {
   "cell_type": "markdown",
   "metadata": {},
   "source": [
    "#### Correlation and Covariance statistics for Total bill and Tip amount.\n",
    "\n",
    "Using the `corr` function on the tips dataframe will include a correlation statistic for the Total Bill against Tip. Size is also included (number of people in a dining party)."
   ]
  },
  {
   "cell_type": "code",
   "execution_count": 30,
   "metadata": {},
   "outputs": [
    {
     "data": {
      "text/html": [
       "<div>\n",
       "<style scoped>\n",
       "    .dataframe tbody tr th:only-of-type {\n",
       "        vertical-align: middle;\n",
       "    }\n",
       "\n",
       "    .dataframe tbody tr th {\n",
       "        vertical-align: top;\n",
       "    }\n",
       "\n",
       "    .dataframe thead th {\n",
       "        text-align: right;\n",
       "    }\n",
       "</style>\n",
       "<table border=\"1\" class=\"dataframe\">\n",
       "  <thead>\n",
       "    <tr style=\"text-align: right;\">\n",
       "      <th></th>\n",
       "      <th>total_bill</th>\n",
       "      <th>tip</th>\n",
       "      <th>size</th>\n",
       "    </tr>\n",
       "  </thead>\n",
       "  <tbody>\n",
       "    <tr>\n",
       "      <th>total_bill</th>\n",
       "      <td>1.000000</td>\n",
       "      <td>0.675734</td>\n",
       "      <td>0.598315</td>\n",
       "    </tr>\n",
       "    <tr>\n",
       "      <th>tip</th>\n",
       "      <td>0.675734</td>\n",
       "      <td>1.000000</td>\n",
       "      <td>0.489299</td>\n",
       "    </tr>\n",
       "    <tr>\n",
       "      <th>size</th>\n",
       "      <td>0.598315</td>\n",
       "      <td>0.489299</td>\n",
       "      <td>1.000000</td>\n",
       "    </tr>\n",
       "  </tbody>\n",
       "</table>\n",
       "</div>"
      ],
      "text/plain": [
       "            total_bill       tip      size\n",
       "total_bill    1.000000  0.675734  0.598315\n",
       "tip           0.675734  1.000000  0.489299\n",
       "size          0.598315  0.489299  1.000000"
      ]
     },
     "execution_count": 30,
     "metadata": {},
     "output_type": "execute_result"
    }
   ],
   "source": [
    "# calculating correlation on the numerical variables of Tips dataset\n",
    "df.corr()"
   ]
  },
  {
   "cell_type": "code",
   "execution_count": 32,
   "metadata": {},
   "outputs": [
    {
     "data": {
      "text/plain": [
       "0.6757341092113641"
      ]
     },
     "execution_count": 32,
     "metadata": {},
     "output_type": "execute_result"
    }
   ],
   "source": [
    "# correlation of total bill and tip amounts.\n",
    "df['total_bill'].corr(df['tip'])"
   ]
  },
  {
   "cell_type": "code",
   "execution_count": 31,
   "metadata": {},
   "outputs": [
    {
     "data": {
      "text/html": [
       "<div>\n",
       "<style scoped>\n",
       "    .dataframe tbody tr th:only-of-type {\n",
       "        vertical-align: middle;\n",
       "    }\n",
       "\n",
       "    .dataframe tbody tr th {\n",
       "        vertical-align: top;\n",
       "    }\n",
       "\n",
       "    .dataframe thead th {\n",
       "        text-align: right;\n",
       "    }\n",
       "</style>\n",
       "<table border=\"1\" class=\"dataframe\">\n",
       "  <thead>\n",
       "    <tr style=\"text-align: right;\">\n",
       "      <th></th>\n",
       "      <th>total_bill</th>\n",
       "      <th>tip</th>\n",
       "      <th>size</th>\n",
       "    </tr>\n",
       "  </thead>\n",
       "  <tbody>\n",
       "    <tr>\n",
       "      <th>total_bill</th>\n",
       "      <td>79.252939</td>\n",
       "      <td>8.323502</td>\n",
       "      <td>5.065983</td>\n",
       "    </tr>\n",
       "    <tr>\n",
       "      <th>tip</th>\n",
       "      <td>8.323502</td>\n",
       "      <td>1.914455</td>\n",
       "      <td>0.643906</td>\n",
       "    </tr>\n",
       "    <tr>\n",
       "      <th>size</th>\n",
       "      <td>5.065983</td>\n",
       "      <td>0.643906</td>\n",
       "      <td>0.904591</td>\n",
       "    </tr>\n",
       "  </tbody>\n",
       "</table>\n",
       "</div>"
      ],
      "text/plain": [
       "            total_bill       tip      size\n",
       "total_bill   79.252939  8.323502  5.065983\n",
       "tip           8.323502  1.914455  0.643906\n",
       "size          5.065983  0.643906  0.904591"
      ]
     },
     "execution_count": 31,
     "metadata": {},
     "output_type": "execute_result"
    }
   ],
   "source": [
    "# covariance of the 3 numerical variables in tips dataset\n",
    "df.cov()"
   ]
  },
  {
   "cell_type": "code",
   "execution_count": 33,
   "metadata": {},
   "outputs": [
    {
     "data": {
      "text/plain": [
       "8.323501629224854"
      ]
     },
     "execution_count": 33,
     "metadata": {},
     "output_type": "execute_result"
    }
   ],
   "source": [
    "df['total_bill'].cov(df['tip'])"
   ]
  },
  {
   "cell_type": "markdown",
   "metadata": {},
   "source": [
    "The correlation between the total bill amount and the tip is positive and quite high at 0.67 which implies that tip amount is indeed related to the total bill amount. The relationship is quite strong but it does not seem to be the only factor. The size of the party can also be seen to have an influnce here with a positive value of 0.49. "
   ]
  },
  {
   "cell_type": "markdown",
   "metadata": {},
   "source": [
    "To illustrate this I will use a scatterplot of the Tip amount against the Total bill amount. Scatter and/or line plots are used to visualise relationships between numerical variables. \n",
    "\n",
    "[Visualizing statistical relationships](https://seaborn.pydata.org/tutorial/relational.html#visualizing-statistical-relationships)\n",
    ">Statistical analysis is a process of understanding how variables in a dataset relate to each other and how those relationships depend on other variables. Visualization can be a core component of this process because, when data are visualized properly, the human visual system can see trends and patterns that indicate a relationship.\n",
    "\n",
    "The scatter plot shows the joint distribution of two variables where each point represents an observation in the dataset and can be used to spot relationships. \n",
    "\n",
    "~~Seaborn's `relplot()` is a (figure-level) function for visualizing statistical relationships using scatter plots or line plots. These are fairly simple 2 dimensional plots of the data but further dimensions can be added where the hue(colour), size, and style semantics of the points can take on meaning representing further variables in the same plot.~~\n"
   ]
  },
  {
   "cell_type": "markdown",
   "metadata": {},
   "source": [
    "### Scatter plot of Total Bill amount against the Tip amount."
   ]
  },
  {
   "cell_type": "code",
   "execution_count": 19,
   "metadata": {},
   "outputs": [
    {
     "data": {
      "image/png": "[encoded data removed]",
      "text/plain": [
       "<Figure size 432x288 with 1 Axes>"
      ]
     },
     "metadata": {},
     "output_type": "display_data"
    }
   ],
   "source": [
    "# create the plot\n",
    "sns.scatterplot(x=df['total_bill'],y=df['tip'])\n",
    "\n",
    "# labels\n",
    "plt.xlabel(\"Total Bill amount in USD\")\n",
    "plt.ylabel(\"Tip amount in USD\")\n",
    "# add title\n",
    "plt.title(\"Scatter plot of Total bill amount and Tip\")\n",
    "plt.show()"
   ]
  },
  {
   "cell_type": "markdown",
   "metadata": {},
   "source": [
    "There does appear to be a linear relationship between the two variables and the Tip amount does appear to rise with the bill amount as would be expected. The effects of the other variables will be explored below.\n",
    "\n"
   ]
  },
  {
   "cell_type": "markdown",
   "metadata": {},
   "source": [
    "### Regression.\n",
    "\n",
    "Regression is a statistical method used to describe the nature of the relationship between variables which can be poitive or negative, linear or non-linear.  It can be used to see whether two or more variables are related and if so what is the strength of the relationship. Also what kind of relationship exists and whether predictions can be made from the relationship.\n",
    "\n",
    "The goal of regression here is to relate two numerical variables in the Tips dataset to each other, specifically the tip amount and the total bill amount. Is the tip amount related to the total bill amount, how and by how much. Can you predict the tip amount if you know the bill amount?\n",
    "\n",
    "Scatter plots can be used to visualise a relationship between two such variables. A scatter plot is a plot of the ordered pairs of numbers consisting of the independent variable x and the dependent variable y.\n",
    "\n",
    "Seaborn plots can be used to show the joint distribution of two variables but in addition to this statistical models can be used to estimate a simple relationship between two noisy sets of observations. Seaborn's regression plots are mainly used to visualise patterns in a dataset during the exploratory data analysis and are not meant to be used for statistical analysis as such. The seaborn documentation recommends using the `statsmodels` package for looking at more quantitative measures concerning the fit of the regression models. Seaborn plots can be used to quickly and easily visualise a dataset when exploring the dataset on top of looking at the summary statistics. As the saying goes a picture paints a thousand words!\n",
    "\n",
    "The scatter plot above shows that there does appear to be a linear relationship between the variables with the points forming a clear line across the diagonal from the intersection of the axis up to the top right hand corner.\n",
    "This shows that as the total bill amount increases so too does the tip amount. However there are a lot of points in the right hand side of the plot under the line though  that do not seem to follow the same trend where higher bill amounts do not have corresponding high tip amounts. There are va few but not many points at the left side of the diagonal representing higher tip amounts for lower total bills. \n",
    "\n",
    "Simple linear regression to analyse if there is a relationship between the bill amount and the tip amount. \n",
    "**Simple linear regression** is a common method for looking at relationships between a single explanatory variable and a single quantitative outcome variable. Simple linear regression can therefore be used here to explore any relationship between the total bill amount as the explanatory variable and the tip amount as the outcome variable. Simple refers to there being only one explanatory variable. \n",
    "\n",
    "In the Tips dataset there are 229 different observed values of the total bill amount but there are many amounts in between these exact bill amounts that could be assumed to also possible values of the explanatory variable. \n",
    "(There are only 123 unique tip amounts!)."
   ]
  },
  {
   "cell_type": "code",
   "execution_count": 30,
   "metadata": {},
   "outputs": [
    {
     "name": "stdout",
     "output_type": "stream",
     "text": [
      "There are 229  unique total bill amounts\n",
      "There are 123  unique tip amounts\n"
     ]
    }
   ],
   "source": [
    "print(f\"There are {len(df['total_bill'].unique())}  unique total bill amounts\")\n",
    "print(f\"There are {len(df['tip'].unique())}  unique tip amounts\")\n"
   ]
  },
  {
   "cell_type": "markdown",
   "metadata": {},
   "source": [
    "  \n",
    "There is a set of observations or points that seem to fall around a line. All straight lines can be expressed in the form $y = mx +c$ where $m$ is the slope of the line and shows how much $y$ increases when $x$ is increased by one unit. The number $c$ is the y-intercept of the line which is the value of $y$ when $x$ is zero. Instead of using $c$ and $m$, $b_0$ can be used for the intercept and $b_1$ for the slope of the line. The equation of the line can therefore be expressed as $y = b_0 + b_1x$.\n",
    "\n",
    "When finding a straight line to fit data you would looks for the best possible values for the slope and intercept parameters.\n",
    "Regression looks for the equation of the line that the points lie on.\n",
    "\n",
    "Using linear regression a relationship can be considered between the population mean of the outcome tip variable and the explanatory total bill amount variable. \n",
    "$Y$ is usually used to denote the outcome variable and $x$ for the explanatory variable. The model is usually expressed as the expected value of Y given a particular value of x is equal to the intercept parameter $B_0$ and the slope parameter $B_1$. :\n",
    "$$E(Y|x) = B_0 + B_1x$$\n",
    "The structural model is that the explanatory and outcome variables are linearly related where the population mean of the outcome for any $x$ value is $B_0 + B_1x$.\n",
    "\n",
    "For simple linear regression the usual null hypothesis is that $H_0: B_1=0$ and the alternative hypothesis is $H_1: B1 \\neq 0$. If the null hypothesis is true then the population mean of $Y$ will be $B_0$ for every $x$ value and $x$ has no effect on $Y$. The alternate hypothesis is that changes in $x$ are associated with changes in $Y$. \n",
    "\n",
    "The hypothesis in this case is whether there is a linear relationship between the total bill and the tip amount. The model says that for each value of the total bill amount $x$, the population mean of Tip amount $Y$ (over all the observations that have that particular $x$ for their explanatory variable) can be calculated using the simple linear expression $B_0 + B_1x$. However as the exact values of two parameters are not known, estimates are made and substituted into this equation. The term *coefficient* is used for parameter or parameter estimates in the equation for predicting $Y$ from $x$.\n",
    "The equation $E(Y|x) = B_0 + B_1x$ makes a prediction of the true mean of the outcome(Tip amount) for any fixed value of the explanatory variable (total bill amount). Seltman notes that while it is reasonable to interpolate and make predictions for unobserved $x$ values between the observed $x$ values it would be unwise to extrapolate and make predictions outside of the range of $x$ values studied. The model assumes linearity within the range of the obseved values.\n",
    "There are also assumptions regarding the *errors* where an error in this context is the deviation of the true outcome value from the population mean of the outcome for a given $x$ value...\n",
    "\n",
    "Using linear regression, a model can be used to make predictions for unobserved tip values in between the observed tip amounts but not for making predictions of tip amounts outside this range. \n",
    "\n",
    "When fitting a regression model to the data you look for a straight line with the best possible values for the slope and intercept parameters given the observed data. A cost function is used to estimate the parameter values for the model that minimise the cost function. \n",
    "Numpy has a function `polyfit` that performs this calculation and can be used to fit lines in many dimensions."
   ]
  },
  {
   "cell_type": "markdown",
   "metadata": {},
   "source": [
    "\n",
    "Below  am using the average tip rate as an initial estimate of the slope $m$ of the line. The minimum tip is 1 dollar so I will use this as the intercept.\n",
    "First the actual observations are plotted, then look for a line that best fits the data.\n",
    "The best line is considered the one that minimises the cost $Cost(m,c)$ of the Least Squares Lines $ \\sum_i (y_i - mx_i - c)^2 $. Each $y_i$ is the corresponding value of Tip amount to each total bill amount $x_i$ in the dataset. These are actual measured values. $(x_i,y_i)$ is the ith point in the dataset.\n",
    "The value $mx_i + c$ is what the model says that $y_i$ should have been. $y_i - mx_i - c$ is the difference between the observed $y_i$ values and the the value the model gives $(mx_i + c)$. These values are then squared.\n",
    "Particular values of $m$ and $c$ will give the lowest values for this cost function which can be plotted on the scatter plot of actual observations. \n",
    "\n",
    "The lecture demonstrated how several lines can be drawn as estimates for the model that best fits the data with a given slopes and intercepts. A cost is then calculated for each line and the line with the lowest cost is considered the best fit for the data. A **cost function** is used to determine the best line to fit the data. However the data does not alway fit perfectly and therefore the cost is usually greater than zero. If I was to do this I would start with a guess of 15% for the slope using the typical tip rate of 15% and 1 as the intercept given the minimum tip in the dataset is 1 dollar.  Fortunately numpy's `polfit` function  can do this. \n",
    "(The actual calculations if this was done manually is below as per the lecture notes on simple linear regression.)\n",
    "\n",
    "How much of the variance in $y$ that is determined by $x$ can be measured using the Coefficient of Determination also known as R Squared. The $R^2$ value is an estimate of how much the changes in the $y$ values (tip amount) is due to changes in the $x$ values (the total bill amoounts) compared to all the other factors that affect the $y$ value. \n",
    "\n",
    "$$ R^2 = 1 - \\frac{\\sum_i (y_i - m x_i - c)^2}{\\sum_i (y_i - \\bar{y})^2} $$\n",
    "\n",
    "Sometimes the Pearson correlation coefficient is used instead of the R-squared value. The Pearson coefficient can be squared to get the R-squared value.  Numpy has a function `corrcoef()` that calculates this value. "
   ]
  },
  {
   "cell_type": "code",
   "execution_count": 6,
   "metadata": {},
   "outputs": [
    {
     "data": {
      "text/plain": [
       "0.16080258172250478"
      ]
     },
     "execution_count": 6,
     "metadata": {},
     "output_type": "execute_result"
    }
   ],
   "source": [
    "np.mean(df['tip']/df['total_bill'])"
   ]
  },
  {
   "cell_type": "markdown",
   "metadata": {},
   "source": [
    "#### Using the numpy `polyfit` function"
   ]
  },
  {
   "cell_type": "code",
   "execution_count": 11,
   "metadata": {},
   "outputs": [
    {
     "data": {
      "text/plain": [
       "array([0.105 , 0.9203])"
      ]
     },
     "execution_count": 11,
     "metadata": {},
     "output_type": "execute_result"
    }
   ],
   "source": [
    "x, y = df['total_bill'], df['tip']\n",
    "np.polyfit(x,y,1)\n"
   ]
  },
  {
   "cell_type": "code",
   "execution_count": 9,
   "metadata": {},
   "outputs": [
    {
     "name": "stdout",
     "output_type": "stream",
     "text": [
      "                            OLS Regression Results                            \n",
      "==============================================================================\n",
      "Dep. Variable:                    tip   R-squared:                       0.457\n",
      "Model:                            OLS   Adj. R-squared:                  0.454\n",
      "Method:                 Least Squares   F-statistic:                     203.4\n",
      "Date:                Sat, 23 Nov 2019   Prob (F-statistic):           6.69e-34\n",
      "Time:                        19:47:15   Log-Likelihood:                -350.54\n",
      "No. Observations:                 244   AIC:                             705.1\n",
      "Df Residuals:                     242   BIC:                             712.1\n",
      "Df Model:                           1                                         \n",
      "Covariance Type:            nonrobust                                         \n",
      "==============================================================================\n",
      "                 coef    std err          t      P>|t|      [0.025      0.975]\n",
      "------------------------------------------------------------------------------\n",
      "Intercept      0.9203      0.160      5.761      0.000       0.606       1.235\n",
      "total_bill     0.1050      0.007     14.260      0.000       0.091       0.120\n",
      "==============================================================================\n",
      "Omnibus:                       20.185   Durbin-Watson:                   2.151\n",
      "Prob(Omnibus):                  0.000   Jarque-Bera (JB):               37.750\n",
      "Skew:                           0.443   Prob(JB):                     6.35e-09\n",
      "Kurtosis:                       4.711   Cond. No.                         53.0\n",
      "==============================================================================\n",
      "\n",
      "Warnings:\n",
      "[1] Standard Errors assume that the covariance matrix of the errors is correctly specified.\n"
     ]
    }
   ],
   "source": [
    "import statsmodels.api as sm\n",
    "import statsmodels.formula.api as smf\n",
    "results = smf.ols('tip ~ total_bill', data=df).fit()\n",
    "#results = sm.OLS(df['tip'],df['total_bill']).fit()\n",
    "print(results.summary())"
   ]
  },
  {
   "cell_type": "code",
   "execution_count": 28,
   "metadata": {},
   "outputs": [
    {
     "data": {
      "image/png": "[encoded data removed]",
      "text/plain": [
       "<Figure size 432x288 with 1 Axes>"
      ]
     },
     "metadata": {
      "needs_background": "light"
     },
     "output_type": "display_data"
    }
   ],
   "source": [
    "# overlay an estimate line on the plot\n",
    "sns.scatterplot(x=df['total_bill'],y=df['tip'], label=\"Tips data\")\n",
    "x = np.arange(0, 80, 1)\n",
    "# plot a line on the plot using 0.15 as slope and 1 as intercept\n",
    "plt.plot(x, .15 * x +1, 'r' , label=r\"$0.15 + 1$\")\n",
    "# plot a line using output from polyfit as slope and intercept as the best fit line\n",
    "plt.plot(x, m*x + c, 'b-', label = \"best fit line. m= 0.105,c= 0.92 \")\n",
    "plt.legend()\n",
    "plt.show()\n"
   ]
  },
  {
   "cell_type": "markdown",
   "metadata": {},
   "source": []
  },
  {
   "cell_type": "code",
   "execution_count": null,
   "metadata": {},
   "outputs": [],
   "source": []
  },
  {
   "cell_type": "markdown",
   "metadata": {},
   "source": [
    "##### Calculating the cost function manually\n",
    "\n",
    "Calculating the best slope and intercept values\n",
    "Here using the calculations as outlined in the lecture notes on linear regression.\n",
    "This gives the same results as the numpy `polyfit` function."
   ]
  },
  {
   "cell_type": "code",
   "execution_count": 23,
   "metadata": {},
   "outputs": [
    {
     "name": "stdout",
     "output_type": "stream",
     "text": [
      "The mean bill amount is $19.786  and mean tip amount is $2.998\n",
      "m is 0.105025 and c is 0.920270.\n"
     ]
    }
   ],
   "source": [
    "# First the means of total_bill and tips\n",
    "x_avg, y_avg = np.mean(df.total_bill), np.mean(df.tip)\n",
    "print(\"The mean bill amount is $%.3f \" %x_avg, \"and mean tip amount is $%.3f\" %y_avg)\n",
    "\n",
    "## subtract means from each of the individual total_bill and tip values\n",
    "x_zero= df['total_bill'] - np.mean(df['total_bill'])\n",
    "y_zero= df['tip'] - np.mean(df['tip'])\n",
    "\n",
    "# The best m is found by the following calculations:\n",
    "m = np.sum(x_zero * y_zero) / np.sum(x_zero * x_zero)\n",
    "\n",
    "# use m from above to calculate the best c\n",
    "c = y_avg - m* x_avg\n",
    "\n",
    "print(\"m is %8.6f and c is %6.6f.\" %(m,c))"
   ]
  },
  {
   "cell_type": "code",
   "execution_count": 35,
   "metadata": {},
   "outputs": [
    {
     "name": "stdout",
     "output_type": "stream",
     "text": [
      "Cost with m =  0.15 and c =  1.10:   570.90\n",
      "Cost with m =  0.10 and c =  0.92:   252.79\n"
     ]
    }
   ],
   "source": [
    "# Calculating the cost for various slope and intercept values\n",
    "x, y = df.total_bill, df.tip\n",
    "cost = lambda m,c: np.sum([(y[i] - m * x[i] - c)**2 for i in range(x.size)])\n",
    "cost = lambda m,c: np.sum([(y[i] - m * x[i] - c)**2 for i in range(x.size)])\n",
    "## first for a wild guess\n",
    "print(\"Cost with m = %5.2f and c = %5.2f: %8.2f\" % (0.15, 1.1, cost(0.15, 1.1)))\n",
    "# using the estimates from the polyfit function\n",
    "print(\"Cost with m = %5.2f and c = %5.2f: %8.2f\" % (0.105, 0.9203, cost(0.105, 0.9203)))"
   ]
  },
  {
   "cell_type": "markdown",
   "metadata": {},
   "source": [
    "The best values for $m$ and $c$ given the tips data and using the least squares fitting are 0.105 for $m$ and 0.9203 for $c$ which are the same as Numpy's `polyfit` function  of 0.105  and 0.9203 for the slope and intercept parameters. The $Cost$ of the best $m$ and the best $c$ is not zero in this case."
   ]
  },
  {
   "cell_type": "markdown",
   "metadata": {},
   "source": [
    "#### Calculating R squared - the coefficient of determination."
   ]
  },
  {
   "cell_type": "code",
   "execution_count": 50,
   "metadata": {},
   "outputs": [
    {
     "name": "stdout",
     "output_type": "stream",
     "text": [
      "The R-squared value is 0.4566\n",
      " Using numpy corrcoef:0.4566 \n"
     ]
    }
   ],
   "source": [
    "# Calculate the R-squared value for the Tips dataset\n",
    "rsq = 1.0 - (np.sum((y - m * x - c)**2)/np.sum((y - y_avg)**2))\n",
    "print(\"The R-squared value is %6.4f\" % rsq)\n",
    "# The same value using numpy.\n",
    "print(f\" Using numpy corrcoef:{np.corrcoef(x, y)[0][1]**2:.4f} \")"
   ]
  },
  {
   "cell_type": "code",
   "execution_count": null,
   "metadata": {},
   "outputs": [],
   "source": []
  },
  {
   "cell_type": "markdown",
   "metadata": {},
   "source": [
    "### Using Seaborn to draw linear regression models.\n",
    "#### Drawing linear regression models for Tips dataset.\n",
    "\n",
    "This section concerns the relationship between the total bill amount and the Tip amount in the Tips dataset. \n",
    "Some of the plots looked at in part 1 so show the joint distribution of the two variables. Statistical models can also be used to estimate a simple relationship between sets of observations. Seaborn's regression plots are can help to visualise such patterns that exist in a dataset when exploring the data but other python packages such as **statsmodels** are recommended for looking at more quantitative measures concerning the fit of the regression models. Seaborn can be used to quickly and easily visualise a dataset when exploring the dataset on top of looking at the summary statistics. As the saying goes a picture paints a thousand words!\n",
    "\n",
    "For simple linear regression the usual null hypothesis is that $H_0: B_1=0$ and the alternative hypothesis is $H_1: B1 \\neq 0$. If the null hypothesis is true then the population mean of $Y$ will be $B_0$ for every $x$ value and $x$ has no effect on $Y$. The alternate hypothesis is that changes in $x$ are associated with changes in $Y$. In the case of the total_bill amount and tips amount in the Tips dataset, the hypothese are comncerned with whether there is a linear relationship between the total bill and the tip amount. \n",
    "A simple linear regression model would say that for each value of the total bill amount $x$, the population mean of Tip amount $Y$ (over all the observations that have that particular $x$ for their explanatory variable) can be calculated using the simple linear equation $B_0 + B_1x$. The equation $E(Y|x) = B_0 + B_1x$ makes a prediction of the true mean of the outcome(Tip amount) for any fixed value of the explanatory variable (total bill amount). \n",
    "\n",
    "Exploratory data analysis can show whether there is a case for trying a linear regression on the data. The scatter plots above already show that there does appear to be a linear relationship between the total bill amount and the tip amount. \n",
    "\n",
    "Regression functions uses the formula mentioned earlier to get estimates of the unknown parameters $B_0$ and  $B_1$. The best line to fit the data is the one that minimises the cost of the least squares line. \n",
    "\n",
    "Any straight line is characterised by it's slope and intercept. Different values of $x$ are chosen and the corresponding values of $y$ values using the equation of the line\n",
    "$y = b_0 + b_1x$ for different values of $b_0$ and $b_1$ \n",
    "\n",
    "This difference between what the model says the y values should be (the fitted values $\\hat{y}$ ) and that the observed y values actually are squared and summed up. The vertical distances between the actual observed points and the best fit regression line are known as the residuals. The least squares line is the line with the smallest sum of squared residuals. Calculus can be used to find the values of $b_0$ and $b_1$ that give this minimum value. The equations here are used to find the best fit line. Numpy's `polyfit` does this and returns the parameter estimates.\n",
    "($\\hat{B_0}$ and ($\\hat{B_1}$ are often used instead of $b_0$ and $b_1$ to show these are statistics rather than parameters.\n",
    "\n"
   ]
  },
  {
   "cell_type": "markdown",
   "metadata": {},
   "source": [
    "$\\hat{y_i}$ \n",
    "$$b_1 = \\frac{\\sum_i (x_i - \\bar{x}) (y_i - \\bar{y})}{\\sum_i (x_i - \\bar{x})^2} \\qquad \\textrm{and} \\qquad b_0 = \\bar{y} - b_1 \\bar{x} $$"
   ]
  },
  {
   "cell_type": "markdown",
   "metadata": {},
   "source": [
    "[Visualising linear relationships using seaborn](https://seaborn.pydata.org/tutorial/regression.html#visualizing-linear-relationships) uses the tips dataset to demostrate the regression functions.\n",
    "Seaborn has two main functions for visualising linear relationships through regression, `regplot` and `lmplot` which both produce fairly similar output. (While these plots do look the same, they have a different size and shape on the axes because `regplot` is a is an axes-level function and draws onto specific axes and therefore gives you more control over the location of the plot).\n",
    "\n",
    "These functions first draw a scatterplot of two variables x and y. Next a regression model y ~ x is fitted and plotted over the scatter plot together with a 95% confidence interval for the regression. \n",
    "Here a scatterplot is drawn showing total bill on the y-axes and tip amount on the x-axis.\n",
    "A regression model is fitted and plotted over the scatter plot\n",
    "# HERE!"
   ]
  }
 ],
 "metadata": {
  "kernelspec": {
   "display_name": "Python 3",
   "language": "python",
   "name": "python3"
  },
  "language_info": {
   "codemirror_mode": {
    "name": "ipython",
    "version": 3
   },
   "file_extension": ".py",
   "mimetype": "text/x-python",
   "name": "python",
   "nbconvert_exporter": "python",
   "pygments_lexer": "ipython3",
   "version": "3.7.3"
  }
 },
 "nbformat": 4,
 "nbformat_minor": 2
}
